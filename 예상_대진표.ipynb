{
  "nbformat": 4,
  "nbformat_minor": 0,
  "metadata": {
    "colab": {
      "name": "예상_대진표.ipynb",
      "provenance": [],
      "collapsed_sections": [],
      "authorship_tag": "ABX9TyMo5B41mdAdNOxphVU2Vz8l",
      "include_colab_link": true
    },
    "kernelspec": {
      "name": "python3",
      "display_name": "Python 3"
    },
    "language_info": {
      "name": "python"
    }
  },
  "cells": [
    {
      "cell_type": "markdown",
      "metadata": {
        "id": "view-in-github",
        "colab_type": "text"
      },
      "source": [
        "<a href=\"https://colab.research.google.com/github/DHKing7/dahyunk/blob/main/%EC%98%88%EC%83%81_%EB%8C%80%EC%A7%84%ED%91%9C.ipynb\" target=\"_parent\"><img src=\"https://colab.research.google.com/assets/colab-badge.svg\" alt=\"Open In Colab\"/></a>"
      ]
    },
    {
      "cell_type": "code",
      "execution_count": null,
      "metadata": {
        "id": "ZKSOy-gbEphB"
      },
      "outputs": [],
      "source": [
        "import math\n",
        "def solution(n,a,b):\n",
        "    answer = 0\n",
        "    max_num = max(a,b)\n",
        "    min_num = min(a,b)\n",
        "    num = int(n/2)\n",
        "    if min_num <= num and max_num > num:\n",
        "        return int(math.log2(n))\n",
        "    elif min_num + 1 == max_num and min_num % 2 == 1:\n",
        "        return 1\n",
        "    else:\n",
        "        while num >= 1:\n",
        "            if min_num > num and max_num > num:\n",
        "                a_ = num*2 - min_num + 1\n",
        "                b_ = num*2 - max_num + 1\n",
        "                min_num = min(a_,b_)\n",
        "                max_num = max(a_,b_)\n",
        "            num = int(num/2)\n",
        "            if min_num <= num and max_num > num:\n",
        "                return int(math.log2(num)) + 1\n",
        "            else:\n",
        "                continue"
      ]
    }
  ]
}