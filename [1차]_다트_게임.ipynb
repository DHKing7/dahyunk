{
  "nbformat": 4,
  "nbformat_minor": 0,
  "metadata": {
    "colab": {
      "name": "[1차]_다트_게임.ipynb",
      "provenance": [],
      "authorship_tag": "ABX9TyOnW+8TpgUtWiBK0V+xtmLr"
    },
    "kernelspec": {
      "name": "python3",
      "display_name": "Python 3"
    },
    "language_info": {
      "name": "python"
    }
  },
  "cells": [
    {
      "cell_type": "code",
      "execution_count": null,
      "metadata": {
        "id": "NVoeGrysQBbj"
      },
      "outputs": [],
      "source": [
        "def solution(dartResult):\n",
        "    answer = 0\n",
        "    nums = '0123456789'\n",
        "    stack = []\n",
        "    score = ['S','D','T']\n",
        "    word = ''\n",
        "    for i in dartResult:\n",
        "        if i in nums:\n",
        "            word += i\n",
        "        elif i in score:\n",
        "            stack.append(int(word)**(score.index(i)+1))\n",
        "            word = ''\n",
        "        else:\n",
        "            if i == '#':\n",
        "                stack[-1] = stack[-1] *(-1)\n",
        "            elif i == '*':\n",
        "                if len(stack) > 1:\n",
        "                    stack[-1] = stack[-1]*2\n",
        "                    stack[-2] = stack[-2]*2\n",
        "                else:\n",
        "                    stack[-1] = stack[-1]*2\n",
        "    return sum(stack)"
      ]
    }
  ]
}