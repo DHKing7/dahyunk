{
  "nbformat": 4,
  "nbformat_minor": 0,
  "metadata": {
    "colab": {
      "name": "NMS_학습.ipynb",
      "provenance": [],
      "collapsed_sections": [],
      "authorship_tag": "ABX9TyOMOJ/LMK9JMpSHkYQKVR4M",
      "include_colab_link": true
    },
    "kernelspec": {
      "name": "python3",
      "display_name": "Python 3"
    },
    "language_info": {
      "name": "python"
    }
  },
  "cells": [
    {
      "cell_type": "markdown",
      "metadata": {
        "id": "view-in-github",
        "colab_type": "text"
      },
      "source": [
        "<a href=\"https://colab.research.google.com/github/DHKing7/dahyunk/blob/main/NMS_%ED%95%99%EC%8A%B5.ipynb\" target=\"_parent\"><img src=\"https://colab.research.google.com/assets/colab-badge.svg\" alt=\"Open In Colab\"/></a>"
      ]
    },
    {
      "cell_type": "code",
      "source": [
        "!pip utils\n",
        "!pip _box_convert"
      ],
      "metadata": {
        "colab": {
          "base_uri": "https://localhost:8080/"
        },
        "id": "iPJ5Mk7PWJkN",
        "outputId": "de13f4db-13c5-432f-d4ab-38e80902d02c"
      },
      "execution_count": null,
      "outputs": [
        {
          "output_type": "stream",
          "name": "stdout",
          "text": [
            "ERROR: unknown command \"utils\"\n",
            "ERROR: unknown command \"_box_convert\"\n"
          ]
        }
      ]
    },
    {
      "cell_type": "code",
      "source": [
        "from typing import Tuple # 타입 힌트를 지원하는 모듈\n",
        "\n",
        "import torch\n",
        "import torchvision\n",
        "from torch import Tensor\n",
        "from torchvision.extension import _assert_has_ops # ??\n",
        "from ..utils import _log_api_usage_once # ??\n",
        "from ._box_convert import _box_cxcywh_to_xyxy, _box_xyxy_to_cxcywh, _box_xywh_to_xyxy, _box_xyxy_to_xywh # 좌표 변환\n"
      ],
      "metadata": {
        "colab": {
          "base_uri": "https://localhost:8080/",
          "height": 376
        },
        "id": "gqcvYa8F_lLI",
        "outputId": "a108e4bb-3aa7-43c4-d88b-e969c8ed0ecc"
      },
      "execution_count": null,
      "outputs": [
        {
          "output_type": "error",
          "ename": "ImportError",
          "evalue": "ignored",
          "traceback": [
            "\u001b[0;31m---------------------------------------------------------------------------\u001b[0m",
            "\u001b[0;31mImportError\u001b[0m                               Traceback (most recent call last)",
            "\u001b[0;32m<ipython-input-1-aa360ae07bd2>\u001b[0m in \u001b[0;36m<module>\u001b[0;34m()\u001b[0m\n\u001b[1;32m      5\u001b[0m \u001b[0;32mfrom\u001b[0m \u001b[0mtorch\u001b[0m \u001b[0;32mimport\u001b[0m \u001b[0mTensor\u001b[0m\u001b[0;34m\u001b[0m\u001b[0;34m\u001b[0m\u001b[0m\n\u001b[1;32m      6\u001b[0m \u001b[0;32mfrom\u001b[0m \u001b[0mtorchvision\u001b[0m\u001b[0;34m.\u001b[0m\u001b[0mextension\u001b[0m \u001b[0;32mimport\u001b[0m \u001b[0m_assert_has_ops\u001b[0m \u001b[0;31m# ??\u001b[0m\u001b[0;34m\u001b[0m\u001b[0;34m\u001b[0m\u001b[0m\n\u001b[0;32m----> 7\u001b[0;31m \u001b[0;32mfrom\u001b[0m \u001b[0;34m.\u001b[0m\u001b[0;34m.\u001b[0m\u001b[0mutils\u001b[0m \u001b[0;32mimport\u001b[0m \u001b[0m_log_api_usage_once\u001b[0m \u001b[0;31m# ??\u001b[0m\u001b[0;34m\u001b[0m\u001b[0;34m\u001b[0m\u001b[0m\n\u001b[0m\u001b[1;32m      8\u001b[0m \u001b[0;32mfrom\u001b[0m \u001b[0;34m.\u001b[0m\u001b[0m_box_convert\u001b[0m \u001b[0;32mimport\u001b[0m \u001b[0m_box_cxcywh_to_xyxy\u001b[0m\u001b[0;34m,\u001b[0m \u001b[0m_box_xyxy_to_cxcywh\u001b[0m\u001b[0;34m,\u001b[0m \u001b[0m_box_xywh_to_xyxy\u001b[0m\u001b[0;34m,\u001b[0m \u001b[0m_box_xyxy_to_xywh\u001b[0m \u001b[0;31m# 좌표 변환\u001b[0m\u001b[0;34m\u001b[0m\u001b[0;34m\u001b[0m\u001b[0m\n",
            "\u001b[0;31mImportError\u001b[0m: attempted relative import with no known parent package",
            "",
            "\u001b[0;31m---------------------------------------------------------------------------\u001b[0;32m\nNOTE: If your import is failing due to a missing package, you can\nmanually install dependencies using either !pip or !apt.\n\nTo view examples of installing some common dependencies, click the\n\"Open Examples\" button below.\n\u001b[0;31m---------------------------------------------------------------------------\u001b[0m\n"
          ],
          "errorDetails": {
            "actions": [
              {
                "action": "open_url",
                "actionText": "Open Examples",
                "url": "/notebooks/snippets/importing_libraries.ipynb"
              }
            ]
          }
        }
      ]
    },
    {
      "cell_type": "code",
      "source": [
        "def nms(boxes: Tensor, scores: Tensor, iou_threshold: float) -> Tensor: # Tensor 형식으로 반환\n",
        "  \n",
        "# TorchScript & Pytorch JIT이란 Pytorch model을 최적화 하여 model serving을 잘 할 수 있도록 도와줌\n",
        "# Pytorch는 Python의 특징을 많이 가지고 있는 프레임 워크 -> Portability와 Performance에서 약세를 보임\n",
        "# 이 문제를 해결하기 위한 것이 TorchScript, Pytorch JIT\n",
        "\n",
        "# Portability : 모델이 다양한 환경에서 export 될 수 있어야 함, Python interpreter process 에서 뿐만이 아니라 \n",
        "#               C++ server나 mobile/embedded device 에서도 작동이 가능해야함\n",
        "# Performance : inference latency와 throughput, 모두의 성능을 유지하면서도 최적화를 해야함\n",
        "\n",
        "# Eager mode -> Script mode로 변환\n",
        "\n",
        "\n",
        "  if not torch.jit.is_scripting() and not torch.jㅑt.is_tracing():\n",
        "    _log_api_usage_once(nms)\n",
        "  _assert_has_ops()\n",
        "  return torch.ops.torchvision.nms(boxes, scores, iou_threshold)\n",
        "\n",
        "\n",
        "\n",
        "def batched_nms(boxes: Tensor, scores: Tensor, idxs: Tensor, iou_threshold: float,) -> Tensor:\n",
        "  \n",
        "  if not torch.jit.is_scripting() and not torch.jit.is_tracing():\n",
        "    _log_api_usage_once(batched_nms)\n",
        "\n",
        "  if boxes.numel() > (4000 if boxes.device.type == 'cpu' else 20000) and not torchvision._is_tracing():\n",
        "    return _batched_nms_vanilla(boxes, scores, idxs, iou_threshold)\n",
        "  else:\n",
        "    return _batched_nms_coordinate_trick(boxes, scores, idxs, iou_threshold)\n",
        "\n",
        "  \n",
        "\n",
        "def _batched_nms_coordinate_trick(boxes: Tensor, scores: Tensor, idxs: Tensor, iou_threshold: float,) -> Tensor:\n",
        "\n",
        "  if boxes.numel() == 0:\n",
        "    return torch.empty((0,), dtype = torch.int64, device = boxes.device)\n",
        "  max_coordinate = boxes.max()\n",
        "  offsets = idxs.to(boxes) * (max_coordinate + torch.tensor(1).to(boxes))\n",
        "  boxes_for_nms = boxes + offsets[:, None]\n",
        "  keep = nms(boxes_for_nms, scores, iou_threshold)\n",
        "  return keep\n",
        "\n",
        "\n",
        "def _batched_nms_vanilla(boxes: Tensor, scores: Tensor, idxs: Tensor, iou_threshold: float,) -> Tensor:\n",
        "\n",
        "  keep_mask = torch.zeros_like(scores, dtype = torch.bool)\n",
        "  for class_id in torch.unique(idxs):\n",
        "    curr_indices = torch.where(idxs == class_id)[0]\n",
        "    curr_keep_indices = nms(boxes[curr_indices], scores[curr_indices], iou_threshold)\n",
        "    keep_mask[curr_indices[curr_keep_indices]] = True\n",
        "  keep_indices = torch.where(keep_mask)[0]\n",
        "  return keep_indices[scores[keep_indices].sort(descending = True)]"
      ],
      "metadata": {
        "id": "RLtSANnhNARD"
      },
      "execution_count": null,
      "outputs": []
    },
    {
      "cell_type": "code",
      "execution_count": null,
      "metadata": {
        "id": "Mu6yhb1I4Uqy"
      },
      "outputs": [],
      "source": [
        "# 필요한것들?\n",
        "# pretrain 된 이미지넷(optimization) N(0,0.01) \n",
        "anchor_boxes = [] # anchor box들 정보([xmin,xmax,ymin,ymax]) 딕셔너리 형태로 가져올까\n",
        "t\n",
        "\n",
        "\n",
        "\n",
        "\n",
        "def RealBox(xmin, xmax, ymin, ymax):\n",
        "  realbox = (xmax-xmin) * (ymax-ymin)\n",
        "  return realbox\n",
        "\n",
        "def RPBox(xmin, xmax, ymin, ymax):\n",
        "  rpbox = (xmax-xmin) * (ymax-ymin)\n",
        "  return rpbox\n",
        "\n",
        "def IOU(set_BB):\n",
        "  a = (min(a_xmax,p_xmax)-max(a_xmin,p_xmax))*(min(a_ymax,p_ymax)-max(a_ymin,p_ymax)) #겹치는 부분\n",
        "  b = realbox + rpbox - a #전체\n",
        "  iou = a/b\n",
        "  return iou\n",
        "# sliding window\n",
        "\n",
        "object_exist= []\n",
        "for i in range(len(region_proposal)):\n",
        "  if iou > 0.7:\n",
        "    object_exist.append(1)\n",
        "  elif iou < 0.3:\n",
        "    object_exist.append(0)\n",
        "  else:\n",
        "    # 논문에서 뭐라 했는데 추후에 추가\n",
        "\n",
        "def NMS()\n",
        "\n",
        "def Loss(p_i,t_i,*N_cls,*N_reg):\n",
        "  for i in range(len(anchor_boxes)*batch_size):\n",
        "\n"
      ]
    },
    {
      "cell_type": "code",
      "source": [
        "# set_BB[0] = {'BB' = [xmin,xmax,ymin,ymax], 'score' = score} << 딕셔너리가 리스트형태로 담겨있다 가정\n",
        "def NMS(set_BB=list, N=float): # N 은 임계치\n",
        "  list_D = [] # 최종적으로 bounding box 담을 리스트\n",
        "  stack = [] # score 제일 높은 거 찾기 추후에 실력 쌓이면 시간복잡도 관련해서 코드 수정하기\n",
        "  \n",
        "\n",
        "  # score 제일 높은거 찾기\n",
        "  # 제거부터\n",
        "  for i in range(len(set_BB)):\n",
        "    if set_BB[i]['score'] < 0.2:\n",
        "      set_BB[i]['score'] = 0\n",
        "  \n",
        "  list_D.append(set_BB['score_max']['scroe'])\n",
        "\n",
        "  for i in range(len(set_BB)):\n",
        "    \n"
      ],
      "metadata": {
        "id": "wYPaDTqM_7YT"
      },
      "execution_count": null,
      "outputs": []
    },
    {
      "cell_type": "code",
      "source": [
        ""
      ],
      "metadata": {
        "id": "XV8kFrUUJf98"
      },
      "execution_count": null,
      "outputs": []
    }
  ]
}