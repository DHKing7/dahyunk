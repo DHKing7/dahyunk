{
  "nbformat": 4,
  "nbformat_minor": 0,
  "metadata": {
    "colab": {
      "name": "NMS_학습.ipynb",
      "provenance": [],
      "collapsed_sections": [],
      "authorship_tag": "ABX9TyPLgNYGC+IsU++UvSoPTj0M",
      "include_colab_link": true
    },
    "kernelspec": {
      "name": "python3",
      "display_name": "Python 3"
    },
    "language_info": {
      "name": "python"
    }
  },
  "cells": [
    {
      "cell_type": "markdown",
      "metadata": {
        "id": "view-in-github",
        "colab_type": "text"
      },
      "source": [
        "<a href=\"https://colab.research.google.com/github/DHKing7/dahyunk/blob/main/NMS_%ED%95%99%EC%8A%B5.ipynb\" target=\"_parent\"><img src=\"https://colab.research.google.com/assets/colab-badge.svg\" alt=\"Open In Colab\"/></a>"
      ]
    },
    {
      "cell_type": "code",
      "source": [
        "from typing import Tuple # 타입 힌트를 지원하는 모듈\n",
        "\n",
        "import torch\n",
        "import torchvision\n",
        "from torch import Tensor\n",
        "from torchvision.extension"
      ],
      "metadata": {
        "id": "gqcvYa8F_lLI"
      },
      "execution_count": null,
      "outputs": []
    },
    {
      "cell_type": "code",
      "execution_count": null,
      "metadata": {
        "id": "Mu6yhb1I4Uqy"
      },
      "outputs": [],
      "source": [
        "# 필요한것들?\n",
        "# pretrain 된 이미지넷(optimization) N(0,0.01) \n",
        "anchor_boxes = [] # anchor box들 정보([xmin,xmax,ymin,ymax]) 딕셔너리 형태로 가져올까\n",
        "t\n",
        "\n",
        "\n",
        "\n",
        "\n",
        "def RealBox(xmin, xmax, ymin, ymax):\n",
        "  realbox = (xmax-xmin) * (ymax-ymin)\n",
        "  return realbox\n",
        "\n",
        "def RPBox(xmin, xmax, ymin, ymax):\n",
        "  rpbox = (xmax-xmin) * (ymax-ymin)\n",
        "  return rpbox\n",
        "\n",
        "def IOU(set_BB):\n",
        "  a = (min(a_xmax,p_xmax)-max(a_xmin,p_xmax))*(min(a_ymax,p_ymax)-max(a_ymin,p_ymax)) #겹치는 부분\n",
        "  b = realbox + rpbox - a #전체\n",
        "  iou = a/b\n",
        "  return iou\n",
        "# sliding window\n",
        "\n",
        "object_exist= []\n",
        "for i in range(len(region_proposal)):\n",
        "  if iou > 0.7:\n",
        "    object_exist.append(1)\n",
        "  elif iou < 0.3:\n",
        "    object_exist.append(0)\n",
        "  else:\n",
        "    # 논문에서 뭐라 했는데 추후에 추가\n",
        "\n",
        "def NMS()\n",
        "\n",
        "def Loss(p_i,t_i,*N_cls,*N_reg):\n",
        "  for i in range(len(anchor_boxes)*batch_size):\n",
        "\n"
      ]
    },
    {
      "cell_type": "code",
      "source": [
        "# set_BB[0] = {'BB' = [xmin,xmax,ymin,ymax], 'score' = score} << 딕셔너리가 리스트형태로 담겨있다 가정\n",
        "def NMS(set_BB=list, N=float): # N 은 임계치\n",
        "  list_D = [] # 최종적으로 bounding box 담을 리스트\n",
        "  stack = [] # score 제일 높은 거 찾기 추후에 실력 쌓이면 시간복잡도 관련해서 코드 수정하기\n",
        "  \n",
        "\n",
        "  # score 제일 높은거 찾기\n",
        "  # 제거부터\n",
        "  for i in range(len(set_BB)):\n",
        "    if set_BB[i]['score'] < 0.2:\n",
        "      set_BB[i]['score'] = 0\n",
        "  \n",
        "  list_D.append(set_BB['score_max']['scroe'])\n",
        "\n",
        "  for i in range(len(set_BB)):\n",
        "    \n"
      ],
      "metadata": {
        "id": "wYPaDTqM_7YT"
      },
      "execution_count": null,
      "outputs": []
    },
    {
      "cell_type": "code",
      "source": [
        ""
      ],
      "metadata": {
        "id": "XV8kFrUUJf98"
      },
      "execution_count": null,
      "outputs": []
    }
  ]
}