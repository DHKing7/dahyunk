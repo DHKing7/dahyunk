{
  "nbformat": 4,
  "nbformat_minor": 0,
  "metadata": {
    "colab": {
      "name": "rcnn_pytorch.ipynb",
      "provenance": [],
      "collapsed_sections": [],
      "authorship_tag": "ABX9TyPxLgzgav5297h1+mBnGljW",
      "include_colab_link": true
    },
    "kernelspec": {
      "name": "python3",
      "display_name": "Python 3"
    },
    "language_info": {
      "name": "python"
    }
  },
  "cells": [
    {
      "cell_type": "markdown",
      "metadata": {
        "id": "view-in-github",
        "colab_type": "text"
      },
      "source": [
        "<a href=\"https://colab.research.google.com/github/DHKing7/dahyunk/blob/main/rcnn_pytorch.ipynb\" target=\"_parent\"><img src=\"https://colab.research.google.com/assets/colab-badge.svg\" alt=\"Open In Colab\"/></a>"
      ]
    },
    {
      "cell_type": "code",
      "execution_count": null,
      "metadata": {
        "id": "Mu6yhb1I4Uqy"
      },
      "outputs": [],
      "source": [
        "def RealBox(xmin, xmax, ymin, ymax):\n",
        "  realbox = (xmax-xmin) * (ymax-ymin)\n",
        "  return realbox\n",
        "\n",
        "def RPBox(xmin, xmax, ymin, ymax):\n",
        "  rpbox = (xmax-xmin) * (ymax-ymin)\n",
        "  return rpbox\n",
        "\n",
        "def IOU():\n",
        "  a = (min(a_xmax,p_xmax)-max(a_xmin,p_xmax))*(min(a_ymax,p_ymax)-max(a_ymin,p_ymax)) #겹치는 부분\n",
        "  b = realbox + rpbox - a #전체\n",
        "  iou = a/b\n",
        "  return iou\n",
        "\n",
        "\n",
        "object_exist= []\n",
        "for i in range(len(region_proposal)):\n",
        "  if iou > 0.7:\n",
        "    object_exist.append(1)\n",
        "  elif iou < 0.3:\n",
        "    object_exist.append(0)\n",
        "  else:\n",
        "    # 논문에서 뭐라 했는데 추후에 추가\n",
        "\n",
        "    "
      ]
    }
  ]
}