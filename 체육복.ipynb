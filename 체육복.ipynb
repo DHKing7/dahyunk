{
  "nbformat": 4,
  "nbformat_minor": 0,
  "metadata": {
    "colab": {
      "name": "체육복.ipynb",
      "provenance": [],
      "collapsed_sections": [],
      "authorship_tag": "ABX9TyNZFPeod+LVA1cL7SiL3d4U"
    },
    "kernelspec": {
      "name": "python3",
      "display_name": "Python 3"
    },
    "language_info": {
      "name": "python"
    }
  },
  "cells": [
    {
      "cell_type": "code",
      "execution_count": null,
      "metadata": {
        "id": "G2Am-SncJoxL"
      },
      "outputs": [],
      "source": [
        "def solution(n, lost, reserve):\n",
        "    answer = n - len(lost)\n",
        "    lost_new = []\n",
        "    lost.sort()\n",
        "    reserve.sort()\n",
        "    for i in lost:\n",
        "        if i in reserve:\n",
        "            answer += 1\n",
        "            lost_new.append(i)\n",
        "            reserve.remove(i)\n",
        "    for i in lost_new:\n",
        "        lost.remove(i)\n",
        "    for i in lost:\n",
        "        if i-1 in reserve:\n",
        "            answer += 1\n",
        "            reserve.remove(i-1)\n",
        "        elif i+1 in reserve:\n",
        "            answer += 1\n",
        "            reserve.remove(i+1)\n",
        "    return answer"
      ]
    }
  ]
}