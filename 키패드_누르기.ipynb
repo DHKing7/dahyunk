{
  "nbformat": 4,
  "nbformat_minor": 0,
  "metadata": {
    "colab": {
      "name": "키패드_누르기.ipynb",
      "provenance": [],
      "authorship_tag": "ABX9TyNA09kfuTnxsplyB75SH+Ia",
      "include_colab_link": true
    },
    "kernelspec": {
      "name": "python3",
      "display_name": "Python 3"
    },
    "language_info": {
      "name": "python"
    }
  },
  "cells": [
    {
      "cell_type": "markdown",
      "metadata": {
        "id": "view-in-github",
        "colab_type": "text"
      },
      "source": [
        "<a href=\"https://colab.research.google.com/github/DHKing7/dahyunk/blob/main/%ED%82%A4%ED%8C%A8%EB%93%9C_%EB%88%84%EB%A5%B4%EA%B8%B0.ipynb\" target=\"_parent\"><img src=\"https://colab.research.google.com/assets/colab-badge.svg\" alt=\"Open In Colab\"/></a>"
      ]
    },
    {
      "cell_type": "code",
      "execution_count": null,
      "metadata": {
        "id": "iYAtCwJbC2iU"
      },
      "outputs": [],
      "source": [
        "def solution(numbers, hand):\n",
        "    left_position = [-1,0]\n",
        "    right_position = [1,0]\n",
        "    answer = ''\n",
        "    position = { \"*\" : [-1,0],  ### 왼손\n",
        "                7 : [-1,1],   ### 왼손\n",
        "                4 : [-1,2],  ### 왼손\n",
        "                1 : [-1,3],  ### 왼손\n",
        "                0 : [0,0],\n",
        "                8 : [0,1],\n",
        "                5 : [0,2],\n",
        "                2 : [0,3],\n",
        "               '#' : [1,0],  ### 오른손\n",
        "                9 : [1,1],  ### 오른손\n",
        "                6 : [1,2],  ### 오른손\n",
        "                3 : [1,3]}  ### 오른손\n",
        "    for i in numbers:\n",
        "        if i == 1 or i == 4 or i == 7:\n",
        "            answer += 'L'\n",
        "            left_position = position[i]\n",
        "        elif i == 3 or i == 6 or i == 9:\n",
        "            answer += 'R'\n",
        "            right_position = position[i]\n",
        "        else:\n",
        "            a = position[i]\n",
        "            left_distance = abs(a[0] - left_position[0]) + abs(a[1] - left_position[1])\n",
        "            right_distance = abs(a[0] - right_position[0]) + abs(a[1] - right_position[1])\n",
        "            if left_distance == right_distance:\n",
        "                if hand == 'right':\n",
        "                    answer += 'R'\n",
        "                    right_position = position[i]\n",
        "                elif hand == 'left':\n",
        "                    answer += 'L'\n",
        "                    left_position = position[i]\n",
        "            elif left_distance > right_distance:\n",
        "                answer += 'R'\n",
        "                right_position = position[i]\n",
        "            elif right_distance > left_distance:\n",
        "                answer += 'L'\n",
        "                left_position = position[i]\n",
        "    return answer"
      ]
    }
  ]
}