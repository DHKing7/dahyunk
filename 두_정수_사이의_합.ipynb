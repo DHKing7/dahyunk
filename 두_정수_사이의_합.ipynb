{
  "nbformat": 4,
  "nbformat_minor": 0,
  "metadata": {
    "colab": {
      "name": "두_정수_사이의_합.ipynb",
      "provenance": [],
      "authorship_tag": "ABX9TyOlAjuRoi94z6BWK3RCfCZO"
    },
    "kernelspec": {
      "name": "python3",
      "display_name": "Python 3"
    },
    "language_info": {
      "name": "python"
    }
  },
  "cells": [
    {
      "cell_type": "code",
      "execution_count": null,
      "metadata": {
        "id": "KJ1aclmEQ1Lz"
      },
      "outputs": [],
      "source": [
        "def solution(a, b):\n",
        "    answer = 0\n",
        "    if a == b:\n",
        "        answer = a\n",
        "    elif a < b:\n",
        "        for i in range(a,b+1):\n",
        "            answer += i\n",
        "    else:\n",
        "        for i in range(b,a+1):\n",
        "            answer += i\n",
        "    return answer"
      ]
    }
  ]
}