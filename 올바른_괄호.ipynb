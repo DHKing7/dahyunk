{
  "nbformat": 4,
  "nbformat_minor": 0,
  "metadata": {
    "colab": {
      "name": "올바른_괄호.ipynb",
      "provenance": [],
      "collapsed_sections": [],
      "authorship_tag": "ABX9TyNhKXbhXCi/BClJ3e49Njhd",
      "include_colab_link": true
    },
    "kernelspec": {
      "name": "python3",
      "display_name": "Python 3"
    },
    "language_info": {
      "name": "python"
    }
  },
  "cells": [
    {
      "cell_type": "markdown",
      "metadata": {
        "id": "view-in-github",
        "colab_type": "text"
      },
      "source": [
        "<a href=\"https://colab.research.google.com/github/DHKing7/dahyunk/blob/main/%EC%98%AC%EB%B0%94%EB%A5%B8_%EA%B4%84%ED%98%B8.ipynb\" target=\"_parent\"><img src=\"https://colab.research.google.com/assets/colab-badge.svg\" alt=\"Open In Colab\"/></a>"
      ]
    },
    {
      "cell_type": "code",
      "execution_count": null,
      "metadata": {
        "id": "PO6h67kbpFvu"
      },
      "outputs": [],
      "source": [
        "def solution(s):\n",
        "    answer = True\n",
        "    stack = []\n",
        "    dic = {')':'(' ,'(':'0'}\n",
        "    if s[:1] == ')' or s[-1:] == '(':\n",
        "        return False\n",
        "    else:\n",
        "        for i in s:\n",
        "            if len(stack) == 0:\n",
        "                stack.append(i)\n",
        "            elif dic[i] == stack[-1]:\n",
        "                stack.pop()\n",
        "            else:\n",
        "                stack.append(i)\n",
        "        if len(stack) == 0:\n",
        "            return True\n",
        "        else:\n",
        "            return False"
      ]
    }
  ]
}