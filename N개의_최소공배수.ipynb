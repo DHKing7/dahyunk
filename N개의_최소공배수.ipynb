{
  "nbformat": 4,
  "nbformat_minor": 0,
  "metadata": {
    "colab": {
      "name": "N개의_최소공배수.ipynb",
      "provenance": [],
      "collapsed_sections": [],
      "authorship_tag": "ABX9TyPuGCqHcyIeGOtNZO+4MTSK",
      "include_colab_link": true
    },
    "kernelspec": {
      "name": "python3",
      "display_name": "Python 3"
    },
    "language_info": {
      "name": "python"
    }
  },
  "cells": [
    {
      "cell_type": "markdown",
      "metadata": {
        "id": "view-in-github",
        "colab_type": "text"
      },
      "source": [
        "<a href=\"https://colab.research.google.com/github/DHKing7/dahyunk/blob/main/N%EA%B0%9C%EC%9D%98_%EC%B5%9C%EC%86%8C%EA%B3%B5%EB%B0%B0%EC%88%98.ipynb\" target=\"_parent\"><img src=\"https://colab.research.google.com/assets/colab-badge.svg\" alt=\"Open In Colab\"/></a>"
      ]
    },
    {
      "cell_type": "code",
      "execution_count": null,
      "metadata": {
        "id": "5EZrAv8EsW4s"
      },
      "outputs": [],
      "source": [
        "from math import gcd\n",
        "def solution(arr):\n",
        "    def lcm(x,y):\n",
        "        return (x*y)//gcd(x,y)\n",
        "    while True:\n",
        "        arr.append(lcm(arr.pop(),arr.pop()))\n",
        "        if len(arr) == 1:\n",
        "            break\n",
        "    return arr[0]"
      ]
    }
  ]
}