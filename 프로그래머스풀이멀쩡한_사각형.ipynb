{
  "nbformat": 4,
  "nbformat_minor": 0,
  "metadata": {
    "colab": {
      "name": "멀쩡한 사각형.ipynb",
      "provenance": [],
      "authorship_tag": "ABX9TyOBIqI6Tq051BVZpepPacJq",
      "include_colab_link": true
    },
    "kernelspec": {
      "name": "python3",
      "display_name": "Python 3"
    },
    "language_info": {
      "name": "python"
    }
  },
  "cells": [
    {
      "cell_type": "markdown",
      "metadata": {
        "id": "view-in-github",
        "colab_type": "text"
      },
      "source": [
        "<a href=\"https://colab.research.google.com/github/DHKing7/dahyunk/blob/main/%EB%A9%80%EC%A9%A1%ED%95%9C_%EC%82%AC%EA%B0%81%ED%98%95.ipynb\" target=\"_parent\"><img src=\"https://colab.research.google.com/assets/colab-badge.svg\" alt=\"Open In Colab\"/></a>"
      ]
    },
    {
      "cell_type": "code",
      "execution_count": null,
      "metadata": {
        "id": "ADYrQtuu2sWT"
      },
      "outputs": [],
      "source": [
        "import math\n",
        "def solution(w,h):\n",
        "    k = 0\n",
        "    a = 0\n",
        "    min_ = min(w,h)\n",
        "    max_ = max(w,h)\n",
        "    if min_ == 1:\n",
        "        return 0\n",
        "    elif (max_/min_) % 1 == 0:\n",
        "        return w*h-int(max_)\n",
        "    for i in range(1, w+1):\n",
        "        k += math.ceil(h * i / w)\n",
        "    for i in range(1,w):\n",
        "        a += int(h * i / w)\n",
        "    return w*h-(k - a)"
      ]
    }
  ]
}
