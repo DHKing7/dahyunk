{
  "nbformat": 4,
  "nbformat_minor": 0,
  "metadata": {
    "colab": {
      "name": "두_개_뽑아서_더하기.ipynb",
      "provenance": [],
      "collapsed_sections": [],
      "authorship_tag": "ABX9TyMVk6ccHpZHBztEVApA8GM3"
    },
    "kernelspec": {
      "name": "python3",
      "display_name": "Python 3"
    },
    "language_info": {
      "name": "python"
    }
  },
  "cells": [
    {
      "cell_type": "code",
      "execution_count": null,
      "metadata": {
        "id": "0FEeV3_eNp4_"
      },
      "outputs": [],
      "source": [
        "def solution(numbers):\n",
        "    answer = []\n",
        "    for i in range(len(numbers)-1):\n",
        "        for k in range(i+1,len(numbers)):\n",
        "            answer.append(numbers[i] + numbers[k])\n",
        "    k = set(answer)\n",
        "    answer = list(k)\n",
        "    answer.sort()\n",
        "    return answer"
      ]
    }
  ]
}