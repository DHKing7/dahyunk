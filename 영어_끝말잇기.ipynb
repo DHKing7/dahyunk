{
  "nbformat": 4,
  "nbformat_minor": 0,
  "metadata": {
    "colab": {
      "name": "영어_끝말잇기.ipynb",
      "provenance": [],
      "collapsed_sections": [],
      "authorship_tag": "ABX9TyM6SSJR/vNANdDeKObWY1+E",
      "include_colab_link": true
    },
    "kernelspec": {
      "name": "python3",
      "display_name": "Python 3"
    },
    "language_info": {
      "name": "python"
    }
  },
  "cells": [
    {
      "cell_type": "markdown",
      "metadata": {
        "id": "view-in-github",
        "colab_type": "text"
      },
      "source": [
        "<a href=\"https://colab.research.google.com/github/DHKing7/dahyunk/blob/main/%EC%98%81%EC%96%B4_%EB%81%9D%EB%A7%90%EC%9E%87%EA%B8%B0.ipynb\" target=\"_parent\"><img src=\"https://colab.research.google.com/assets/colab-badge.svg\" alt=\"Open In Colab\"/></a>"
      ]
    },
    {
      "cell_type": "code",
      "execution_count": null,
      "metadata": {
        "id": "g6VfaanWmR6F"
      },
      "outputs": [],
      "source": [
        "def solution(n, words):\n",
        "    count = 0\n",
        "    answer = []\n",
        "    while True:\n",
        "        if len(answer) == 0:  \n",
        "            answer.append(words.pop(0))\n",
        "            count += 1\n",
        "        elif len(words) > 0:\n",
        "            if answer[-1][-1:] != words[0][:1]:\n",
        "                count +=1\n",
        "                break\n",
        "            elif words[0] in answer:\n",
        "                count += 1\n",
        "                break\n",
        "            else:\n",
        "                answer.append(words.pop(0))\n",
        "                count += 1\n",
        "        elif len(words) == 0:\n",
        "                return [0,0]\n",
        "    \n",
        "    \n",
        "\n",
        "    return [count%n if count %n !=0 else n, count//n if count%n == 0 else count//n+1]"
      ]
    }
  ]
}