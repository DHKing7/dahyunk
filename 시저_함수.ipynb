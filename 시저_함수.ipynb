{
  "nbformat": 4,
  "nbformat_minor": 0,
  "metadata": {
    "colab": {
      "name": "시저_함수.ipynb",
      "provenance": [],
      "collapsed_sections": [],
      "authorship_tag": "ABX9TyNqMoB9CeFMcV27MQdWGmCJ"
    },
    "kernelspec": {
      "name": "python3",
      "display_name": "Python 3"
    },
    "language_info": {
      "name": "python"
    }
  },
  "cells": [
    {
      "cell_type": "code",
      "execution_count": null,
      "metadata": {
        "id": "XGQILJslUrSG"
      },
      "outputs": [],
      "source": [
        "def solution(s, n):\n",
        "    stack = ['a','b','c','d','e','f','g','h','i','j','k','l','m','n','o','p','q','r','s','t','u','v','w','x','y','z']\n",
        "    stack2 = ['A','B','C','D','E','F','G','H','I','J','K','L','M','N','O','P','Q','R','S','T','U','V','W','X','Y','Z']\n",
        "    answer = \"\"\n",
        "    for i in s:\n",
        "        if i in stack:\n",
        "            answer += stack[(stack.index(i)+n)%26]\n",
        "        elif i in stack2:\n",
        "            answer += stack2[(stack2.index(i)+n)%26]\n",
        "        else:\n",
        "            answer += i\n",
        "    return answer"
      ]
    }
  ]
}