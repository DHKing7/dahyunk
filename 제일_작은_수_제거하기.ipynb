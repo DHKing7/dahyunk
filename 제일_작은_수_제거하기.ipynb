{
  "nbformat": 4,
  "nbformat_minor": 0,
  "metadata": {
    "colab": {
      "name": "제일_작은_수_제거하기.ipynb",
      "provenance": [],
      "collapsed_sections": [],
      "authorship_tag": "ABX9TyNAYGc/qKBDp89eA6iwQSMl"
    },
    "kernelspec": {
      "name": "python3",
      "display_name": "Python 3"
    },
    "language_info": {
      "name": "python"
    }
  },
  "cells": [
    {
      "cell_type": "code",
      "execution_count": null,
      "metadata": {
        "id": "aZ4AN92pXrGW"
      },
      "outputs": [],
      "source": [
        "def solution(arr):\n",
        "    answer = []\n",
        "    if len(arr) == 0 or arr == [10]:\n",
        "        return [-1]\n",
        "    else:\n",
        "        for i in arr:\n",
        "            answer.append(i)\n",
        "        answer.sort()\n",
        "        arr.remove(answer[0])\n",
        "        return arr"
      ]
    }
  ]
}