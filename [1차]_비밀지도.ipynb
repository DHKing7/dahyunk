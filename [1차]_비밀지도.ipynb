{
  "nbformat": 4,
  "nbformat_minor": 0,
  "metadata": {
    "colab": {
      "name": "[1차]_비밀지도.ipynb",
      "provenance": [],
      "collapsed_sections": [],
      "authorship_tag": "ABX9TyOCI/j5oCrDJPSQ+QVWYOeQ"
    },
    "kernelspec": {
      "name": "python3",
      "display_name": "Python 3"
    },
    "language_info": {
      "name": "python"
    }
  },
  "cells": [
    {
      "cell_type": "code",
      "execution_count": null,
      "metadata": {
        "id": "bSP-cPI_PgqI"
      },
      "outputs": [],
      "source": [
        "def solution(n, arr1, arr2):\n",
        "    answer = []\n",
        "    new_arr = []\n",
        "    for a,b in zip(arr1,arr2):\n",
        "        t = bin(a)[2:]\n",
        "        while len(t) < n:\n",
        "            t = '0' + t\n",
        "        k = bin(b)[2:]    \n",
        "        while len(k) < n:\n",
        "            k = '0' + k\n",
        "        new = t+k\n",
        "        answer.append(t+k)\n",
        "    for i in answer:\n",
        "        p = ''\n",
        "        for k in range(n):\n",
        "            if i[k] == i[k+n]:\n",
        "                if i[k] == '1':\n",
        "                    p+='#'\n",
        "                else:\n",
        "                    p+=' '\n",
        "            else:\n",
        "                p +='#'\n",
        "        new_arr.append(p)\n",
        "    return new_arr"
      ]
    }
  ]
}