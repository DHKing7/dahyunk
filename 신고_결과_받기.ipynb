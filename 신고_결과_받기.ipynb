{
  "nbformat": 4,
  "nbformat_minor": 0,
  "metadata": {
    "colab": {
      "name": "신고_결과_받기.ipynb",
      "provenance": [],
      "collapsed_sections": [],
      "authorship_tag": "ABX9TyOkTSpTOmlD8buTQFLU3NWw",
      "include_colab_link": true
    },
    "kernelspec": {
      "name": "python3",
      "display_name": "Python 3"
    },
    "language_info": {
      "name": "python"
    }
  },
  "cells": [
    {
      "cell_type": "markdown",
      "metadata": {
        "id": "view-in-github",
        "colab_type": "text"
      },
      "source": [
        "<a href=\"https://colab.research.google.com/github/DHKing7/dahyunk/blob/main/%EC%8B%A0%EA%B3%A0_%EA%B2%B0%EA%B3%BC_%EB%B0%9B%EA%B8%B0.ipynb\" target=\"_parent\"><img src=\"https://colab.research.google.com/assets/colab-badge.svg\" alt=\"Open In Colab\"/></a>"
      ]
    },
    {
      "cell_type": "code",
      "execution_count": null,
      "metadata": {
        "id": "P-r34TPCCEil"
      },
      "outputs": [],
      "source": [
        "def solution(id_list, report, k):\n",
        "    dic_id = {}\n",
        "    dic_id['id'] = id_list\n",
        "    dic_id['report'] = [[] for i in range(len(id_list))]\n",
        "    dic_id['mail'] = [0]*len(id_list)\n",
        "    set_report = set(report)\n",
        "    set_report = list(set_report)\n",
        "    \n",
        "    for i in set_report:\n",
        "        report_list = i.split(' ')\n",
        "        dic_id['report'][dic_id['id'].index(report_list[1])].append(report_list[0])\n",
        "    for j in range(len(id_list)):\n",
        "        if len(dic_id['report'][j]) >= k:\n",
        "            for i in range(len(dic_id['report'][j])):\n",
        "                dic_id['mail'][dic_id['id'].index(dic_id['report'][j][i])] += 1\n",
        "        else:\n",
        "            continue\n",
        "    return dic_id['mail']"
      ]
    }
  ]
}