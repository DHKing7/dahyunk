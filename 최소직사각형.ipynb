{
  "nbformat": 4,
  "nbformat_minor": 0,
  "metadata": {
    "colab": {
      "name": "최소직사각형.ipynb",
      "provenance": [],
      "collapsed_sections": [],
      "authorship_tag": "ABX9TyPLaK3Rf5yvGO3thHmq6ML4",
      "include_colab_link": true
    },
    "kernelspec": {
      "name": "python3",
      "display_name": "Python 3"
    },
    "language_info": {
      "name": "python"
    }
  },
  "cells": [
    {
      "cell_type": "markdown",
      "metadata": {
        "id": "view-in-github",
        "colab_type": "text"
      },
      "source": [
        "<a href=\"https://colab.research.google.com/github/DHKing7/dahyunk/blob/main/%EC%B5%9C%EC%86%8C%EC%A7%81%EC%82%AC%EA%B0%81%ED%98%95.ipynb\" target=\"_parent\"><img src=\"https://colab.research.google.com/assets/colab-badge.svg\" alt=\"Open In Colab\"/></a>"
      ]
    },
    {
      "cell_type": "code",
      "execution_count": null,
      "metadata": {
        "id": "XnxChI_0OdRI"
      },
      "outputs": [],
      "source": [
        "def solution(sizes):\n",
        "    length = []\n",
        "    width = []\n",
        "    for i in range(len(sizes)):\n",
        "        length.append(max(sizes[i][0],sizes[i][1]))\n",
        "        width.append(min(sizes[i][0],sizes[i][1]))\n",
        "    return max(length)* max(width)"
      ]
    }
  ]
}