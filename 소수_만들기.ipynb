{
  "nbformat": 4,
  "nbformat_minor": 0,
  "metadata": {
    "colab": {
      "name": "소수_만들기.ipynb",
      "provenance": [],
      "collapsed_sections": [],
      "authorship_tag": "ABX9TyMW2MbJFlnIDUwroCZ4Eo6C",
      "include_colab_link": true
    },
    "kernelspec": {
      "name": "python3",
      "display_name": "Python 3"
    },
    "language_info": {
      "name": "python"
    }
  },
  "cells": [
    {
      "cell_type": "markdown",
      "metadata": {
        "id": "view-in-github",
        "colab_type": "text"
      },
      "source": [
        "<a href=\"https://colab.research.google.com/github/DHKing7/dahyunk/blob/main/%EC%86%8C%EC%88%98_%EB%A7%8C%EB%93%A4%EA%B8%B0.ipynb\" target=\"_parent\"><img src=\"https://colab.research.google.com/assets/colab-badge.svg\" alt=\"Open In Colab\"/></a>"
      ]
    },
    {
      "cell_type": "code",
      "execution_count": null,
      "metadata": {
        "id": "09JnmCvPIdmp"
      },
      "outputs": [],
      "source": [
        "def solution(nums):\n",
        "    answer = 0\n",
        "    for i in range(len(nums)-2):\n",
        "        for k in range(i+1, len(nums)-1):\n",
        "            for j in range(k+1, len(nums)):\n",
        "                numbers = nums[i]+nums[k]+nums[j]\n",
        "                is_Prime = 1\n",
        "                for div in range(2,int(numbers**0.5)+1):\n",
        "                    if numbers % div == 0:\n",
        "                        is_Prime = 0\n",
        "                        break\n",
        "                if is_Prime == 1:\n",
        "                    answer += 1\n",
        "    return answer"
      ]
    }
  ]
}