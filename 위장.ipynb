{
  "nbformat": 4,
  "nbformat_minor": 0,
  "metadata": {
    "colab": {
      "name": "위장.ipynb",
      "provenance": [],
      "collapsed_sections": [],
      "authorship_tag": "ABX9TyNc2SK7aHTSb/5hfJsUqeQc",
      "include_colab_link": true
    },
    "kernelspec": {
      "name": "python3",
      "display_name": "Python 3"
    },
    "language_info": {
      "name": "python"
    }
  },
  "cells": [
    {
      "cell_type": "markdown",
      "metadata": {
        "id": "view-in-github",
        "colab_type": "text"
      },
      "source": [
        "<a href=\"https://colab.research.google.com/github/DHKing7/dahyunk/blob/main/%EC%9C%84%EC%9E%A5.ipynb\" target=\"_parent\"><img src=\"https://colab.research.google.com/assets/colab-badge.svg\" alt=\"Open In Colab\"/></a>"
      ]
    },
    {
      "cell_type": "code",
      "execution_count": null,
      "metadata": {
        "id": "exGLSGphhFuX"
      },
      "outputs": [],
      "source": [
        "def solution(clothes):\n",
        "    clothes = sorted(clothes, key = lambda x :x[1])\n",
        "    stack = []\n",
        "    answer = 1\n",
        "    for i in clothes:\n",
        "        stack.append(i[1])\n",
        "    k = set(stack)\n",
        "    dic = []\n",
        "    for i in k:\n",
        "        dic.append(stack.count(i)+1)\n",
        "    \n",
        "    for i in dic:\n",
        "        answer *= i\n",
        "    return answer-1"
      ]
    }
  ]
}