{
  "nbformat": 4,
  "nbformat_minor": 0,
  "metadata": {
    "colab": {
      "name": "음양_더하기.ipynb",
      "provenance": [],
      "collapsed_sections": [],
      "authorship_tag": "ABX9TyOV0nU+V/xBiopXRlaedq4d",
      "include_colab_link": true
    },
    "kernelspec": {
      "name": "python3",
      "display_name": "Python 3"
    },
    "language_info": {
      "name": "python"
    }
  },
  "cells": [
    {
      "cell_type": "markdown",
      "metadata": {
        "id": "view-in-github",
        "colab_type": "text"
      },
      "source": [
        "<a href=\"https://colab.research.google.com/github/DHKing7/dahyunk/blob/main/%EC%9D%8C%EC%96%91_%EB%8D%94%ED%95%98%EA%B8%B0.ipynb\" target=\"_parent\"><img src=\"https://colab.research.google.com/assets/colab-badge.svg\" alt=\"Open In Colab\"/></a>"
      ]
    },
    {
      "cell_type": "code",
      "execution_count": null,
      "metadata": {
        "id": "btoQGCTtDxMC"
      },
      "outputs": [],
      "source": [
        "def solution(absolutes, signs):\n",
        "    answer = 0\n",
        "    for a,b in zip(absolutes, signs):\n",
        "        if b == True:\n",
        "            answer += a\n",
        "        else:\n",
        "            answer -= a\n",
        "    return answer"
      ]
    }
  ]
}