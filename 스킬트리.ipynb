{
  "nbformat": 4,
  "nbformat_minor": 0,
  "metadata": {
    "colab": {
      "name": "스킬트리.ipynb",
      "provenance": [],
      "collapsed_sections": [],
      "authorship_tag": "ABX9TyOPJcPtb84QuKogZn3aEWGS",
      "include_colab_link": true
    },
    "kernelspec": {
      "name": "python3",
      "display_name": "Python 3"
    },
    "language_info": {
      "name": "python"
    }
  },
  "cells": [
    {
      "cell_type": "markdown",
      "metadata": {
        "id": "view-in-github",
        "colab_type": "text"
      },
      "source": [
        "<a href=\"https://colab.research.google.com/github/DHKing7/dahyunk/blob/main/%EC%8A%A4%ED%82%AC%ED%8A%B8%EB%A6%AC.ipynb\" target=\"_parent\"><img src=\"https://colab.research.google.com/assets/colab-badge.svg\" alt=\"Open In Colab\"/></a>"
      ]
    },
    {
      "cell_type": "code",
      "execution_count": null,
      "metadata": {
        "id": "o1soGYGSoRJ1"
      },
      "outputs": [],
      "source": [
        "def solution(skill, skill_trees):\n",
        "    answer = 0\n",
        "    for i in skill_trees:\n",
        "        stack = list(i)\n",
        "        stack2 = ''\n",
        "        for k in stack:\n",
        "            if k in skill:\n",
        "                stack2 += k\n",
        "        if skill[:len(stack2)] == stack2:\n",
        "            answer += 1\n",
        "    return answer"
      ]
    }
  ]
}