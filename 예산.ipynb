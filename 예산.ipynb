{
  "nbformat": 4,
  "nbformat_minor": 0,
  "metadata": {
    "colab": {
      "name": "예산.ipynb",
      "provenance": [],
      "collapsed_sections": [],
      "authorship_tag": "ABX9TyPZr8NJjtblhMFwHB55dIvy"
    },
    "kernelspec": {
      "name": "python3",
      "display_name": "Python 3"
    },
    "language_info": {
      "name": "python"
    }
  },
  "cells": [
    {
      "cell_type": "code",
      "execution_count": null,
      "metadata": {
        "id": "OJHjGxqWNbwm"
      },
      "outputs": [],
      "source": [
        "def solution(d, budget):\n",
        "    answer = len(d)\n",
        "    sum_d = sum(d)\n",
        "    stack = sorted(d)\n",
        "    while sum_d > budget:\n",
        "        sum_d -= stack[-1]\n",
        "        stack.pop()\n",
        "        answer -= 1\n",
        "    return answer"
      ]
    }
  ]
}