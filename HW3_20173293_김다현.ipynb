{
  "nbformat": 4,
  "nbformat_minor": 0,
  "metadata": {
    "colab": {
      "name": "HW3_20173293_김다현.ipynb",
      "provenance": []
    },
    "kernelspec": {
      "name": "python3",
      "display_name": "Python 3"
    },
    "language_info": {
      "name": "python"
    }
  },
  "cells": [
    {
      "cell_type": "code",
      "metadata": {
        "colab": {
          "base_uri": "https://localhost:8080/"
        },
        "id": "hs0-7WJ60rqm",
        "outputId": "4a937acc-9f10-4801-c365-5a5715167ab7"
      },
      "source": [
        "# 입력\n",
        "Preorder_Traversal = input(\"전위 순회를 입력해주세요 순서간 정확히 띄어쓰기 해주세요!! ex) 1 2 3 4 5 6   : \")\n",
        "Inorder_Traversal = input(\"중위 순회를 입력해주세요 순서간 정확히 띄어쓰기 해주세요!! ex) 1 2 3 4 5 6   : \")\n",
        "\n",
        "\n",
        "# 토큰화\n",
        "Preorder_Traversal_Tokens = Preorder_Traversal.split()\n",
        "Inorder_Traversal_Tokens = Inorder_Traversal.split()\n",
        "\n",
        "def Postorder_Traversal(preorder, inorder):\n",
        "  if preorder:\n",
        "    root = preorder[0]\n",
        "    mid = inorder.index(root)\n",
        "    Postorder_Traversal(preorder[1:mid+1], inorder[:mid])\n",
        "    Postorder_Traversal(preorder[mid+1:], inorder[mid+1:])\n",
        "    print(root, end=\" \")\n",
        "\n",
        "Postorder_Traversal(Preorder_Traversal_Tokens, Inorder_Traversal_Tokens)"
      ],
      "execution_count": 1,
      "outputs": [
        {
          "output_type": "stream",
          "name": "stdout",
          "text": [
            "전위 순회를 입력해주세요 순서간 정확히 띄어쓰기 해주세요!! ex) 1 2 3 4 5 6   : F B A D C E G I H\n",
            "중위 순회를 입력해주세요 순서간 정확히 띄어쓰기 해주세요!! ex) 1 2 3 4 5 6   : A B C D E F G H I\n",
            "A C E D B H I G F "
          ]
        }
      ]
    }
  ]
}