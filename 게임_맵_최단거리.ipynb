{
  "nbformat": 4,
  "nbformat_minor": 0,
  "metadata": {
    "colab": {
      "name": "게임_맵_최단거리.ipynb",
      "provenance": [],
      "collapsed_sections": [],
      "authorship_tag": "ABX9TyPJCvJOPFjIHoA3fFpbKQyP"
    },
    "kernelspec": {
      "name": "python3",
      "display_name": "Python 3"
    },
    "language_info": {
      "name": "python"
    }
  },
  "cells": [
    {
      "cell_type": "code",
      "execution_count": null,
      "metadata": {
        "id": "BXtDH-3QgjIc"
      },
      "outputs": [],
      "source": [
        "from collections import deque\n",
        "def bfs(x,y,maps):\n",
        "    queue = deque()\n",
        "    queue.append((x,y))\n",
        "    dx = [-1,1,0,0]\n",
        "    dy = [0,0,-1,1]\n",
        "    n = len(maps)\n",
        "    m = len(maps[0])\n",
        "    while queue:\n",
        "        x,y = queue.popleft()\n",
        "        for i in range(4):\n",
        "            nx = x + dx[i]\n",
        "            ny = y + dy[i]\n",
        "            if nx < 0 or nx >=n or ny< 0 or ny >=m:\n",
        "                continue\n",
        "            \n",
        "            if maps[nx][ny] == 0:\n",
        "                continue\n",
        "            \n",
        "            if maps[nx][ny] == 1:\n",
        "                maps[nx][ny] = maps[x][y]+1\n",
        "                queue.append((nx,ny))\n",
        "                \n",
        "    return maps[n-1][m-1]\n",
        "def solution(maps):\n",
        "    answer = bfs(0,0,maps)\n",
        "    return answer if answer != 1 else -1"
      ]
    }
  ]
}