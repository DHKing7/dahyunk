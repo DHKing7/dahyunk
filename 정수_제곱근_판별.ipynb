{
  "nbformat": 4,
  "nbformat_minor": 0,
  "metadata": {
    "colab": {
      "name": "정수_제곱근_판별.ipynb",
      "provenance": [],
      "collapsed_sections": [],
      "authorship_tag": "ABX9TyOa1PRkvMHjbflk0EWgtmTV"
    },
    "kernelspec": {
      "name": "python3",
      "display_name": "Python 3"
    },
    "language_info": {
      "name": "python"
    }
  },
  "cells": [
    {
      "cell_type": "code",
      "execution_count": null,
      "metadata": {
        "id": "IjVdPzGqXTtC"
      },
      "outputs": [],
      "source": [
        "def solution(n):\n",
        "    num = int(n**0.5)\n",
        "    if num**2 == n:\n",
        "        return (num+1)**2\n",
        "    else:\n",
        "        return -1"
      ]
    }
  ]
}