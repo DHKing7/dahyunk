{
  "nbformat": 4,
  "nbformat_minor": 0,
  "metadata": {
    "colab": {
      "name": "정수_삼각형.ipynb",
      "provenance": [],
      "authorship_tag": "ABX9TyP4wYLz/gvUdHPciSXPiy3f",
      "include_colab_link": true
    },
    "kernelspec": {
      "name": "python3",
      "display_name": "Python 3"
    },
    "language_info": {
      "name": "python"
    }
  },
  "cells": [
    {
      "cell_type": "markdown",
      "metadata": {
        "id": "view-in-github",
        "colab_type": "text"
      },
      "source": [
        "<a href=\"https://colab.research.google.com/github/DHKing7/dahyunk/blob/main/%EC%A0%95%EC%88%98_%EC%82%BC%EA%B0%81%ED%98%95.ipynb\" target=\"_parent\"><img src=\"https://colab.research.google.com/assets/colab-badge.svg\" alt=\"Open In Colab\"/></a>"
      ]
    },
    {
      "cell_type": "code",
      "execution_count": null,
      "metadata": {
        "id": "kgYaWY9x5XIh"
      },
      "outputs": [],
      "source": [
        "def solution(triangle):\n",
        "    answer = 0\n",
        "    stack = []\n",
        "    n = 2\n",
        "    for i in range(len(triangle)-1):\n",
        "        triangle[i+1][0] += triangle[i][0]\n",
        "        triangle[i+1][-1] += triangle[i][-1]\n",
        "        for j in range(1,n-1):\n",
        "            triangle[i+1][j] = max((triangle[i+1][j]+triangle[i][j-1]), (triangle[i+1][j]+triangle[i][j]))\n",
        "        n+=1\n",
        "    return max(triangle[-1])"
      ]
    }
  ]
}