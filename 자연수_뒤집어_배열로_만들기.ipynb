{
  "nbformat": 4,
  "nbformat_minor": 0,
  "metadata": {
    "colab": {
      "name": "자연수_뒤집어_배열로_만들기.ipynb",
      "provenance": [],
      "collapsed_sections": [],
      "authorship_tag": "ABX9TyMXoh6K4EJYq096KsS3UhOB"
    },
    "kernelspec": {
      "name": "python3",
      "display_name": "Python 3"
    },
    "language_info": {
      "name": "python"
    }
  },
  "cells": [
    {
      "cell_type": "code",
      "execution_count": null,
      "metadata": {
        "id": "Kg_984AHWwRk"
      },
      "outputs": [],
      "source": [
        "def solution(n):\n",
        "    k = list(str(n))\n",
        "    t = k[::-1]\n",
        "    answer = []\n",
        "    for i in t:\n",
        "        answer.append(int(i))\n",
        "    return answer"
      ]
    }
  ]
}