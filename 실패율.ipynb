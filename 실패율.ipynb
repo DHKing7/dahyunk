{
  "nbformat": 4,
  "nbformat_minor": 0,
  "metadata": {
    "colab": {
      "name": "실패율.ipynb",
      "provenance": [],
      "collapsed_sections": [],
      "authorship_tag": "ABX9TyO/80MgGY2HwqpDBuX9X2Jy",
      "include_colab_link": true
    },
    "kernelspec": {
      "name": "python3",
      "display_name": "Python 3"
    },
    "language_info": {
      "name": "python"
    }
  },
  "cells": [
    {
      "cell_type": "markdown",
      "metadata": {
        "id": "view-in-github",
        "colab_type": "text"
      },
      "source": [
        "<a href=\"https://colab.research.google.com/github/DHKing7/dahyunk/blob/main/%EC%8B%A4%ED%8C%A8%EC%9C%A8.ipynb\" target=\"_parent\"><img src=\"https://colab.research.google.com/assets/colab-badge.svg\" alt=\"Open In Colab\"/></a>"
      ]
    },
    {
      "cell_type": "code",
      "execution_count": null,
      "metadata": {
        "id": "J3K8uYo1JyYM"
      },
      "outputs": [],
      "source": [
        "def solution(N, stages):\n",
        "    stack = 0\n",
        "    answer = [0]*(N+1)\n",
        "    set_stages = set(stages)\n",
        "    dic = {}\n",
        "    k = []\n",
        "    for i in set_stages:\n",
        "        num = 0\n",
        "        num = stages.count(i)/(len(stages)-stack)\n",
        "        stack += stages.count(i)\n",
        "        answer[i-1] = (num)\n",
        "    answer = answer[:len(answer)-1]\n",
        "    grade = sorted(answer)\n",
        "    grade.reverse()\n",
        "    for i in grade:\n",
        "        k.append(answer.index(i)+1)\n",
        "        answer[answer.index(i)] = 'ok'\n",
        "    return k"
      ]
    }
  ]
}