{
  "nbformat": 4,
  "nbformat_minor": 0,
  "metadata": {
    "colab": {
      "name": "짝지어_제거하기.ipynb",
      "provenance": [],
      "collapsed_sections": [],
      "authorship_tag": "ABX9TyPbrOcOiBP1EGKFhsywBxK5",
      "include_colab_link": true
    },
    "kernelspec": {
      "name": "python3",
      "display_name": "Python 3"
    },
    "language_info": {
      "name": "python"
    }
  },
  "cells": [
    {
      "cell_type": "markdown",
      "metadata": {
        "id": "view-in-github",
        "colab_type": "text"
      },
      "source": [
        "<a href=\"https://colab.research.google.com/github/DHKing7/dahyunk/blob/main/%EC%A7%9D%EC%A7%80%EC%96%B4_%EC%A0%9C%EA%B1%B0%ED%95%98%EA%B8%B0.ipynb\" target=\"_parent\"><img src=\"https://colab.research.google.com/assets/colab-badge.svg\" alt=\"Open In Colab\"/></a>"
      ]
    },
    {
      "cell_type": "code",
      "execution_count": null,
      "metadata": {
        "id": "6DWUq6U4fW7J"
      },
      "outputs": [],
      "source": [
        "def solution(s):\n",
        "    stack = []\n",
        "    for i in s:\n",
        "        if len(stack) == 0:\n",
        "            stack.append(i)\n",
        "        elif stack[-1] == i:\n",
        "            stack.pop()\n",
        "        else:\n",
        "            stack.append(i)\n",
        "\n",
        "    if len(stack) == 0:\n",
        "        return 1\n",
        "    else:\n",
        "        return 0"
      ]
    }
  ]
}