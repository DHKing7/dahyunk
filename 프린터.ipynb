{
  "nbformat": 4,
  "nbformat_minor": 0,
  "metadata": {
    "colab": {
      "name": "프린터.ipynb",
      "provenance": [],
      "authorship_tag": "ABX9TyO5KK/FvcbuPf+QRXinoONH",
      "include_colab_link": true
    },
    "kernelspec": {
      "name": "python3",
      "display_name": "Python 3"
    },
    "language_info": {
      "name": "python"
    }
  },
  "cells": [
    {
      "cell_type": "markdown",
      "metadata": {
        "id": "view-in-github",
        "colab_type": "text"
      },
      "source": [
        "<a href=\"https://colab.research.google.com/github/DHKing7/dahyunk/blob/main/%ED%94%84%EB%A6%B0%ED%84%B0.ipynb\" target=\"_parent\"><img src=\"https://colab.research.google.com/assets/colab-badge.svg\" alt=\"Open In Colab\"/></a>"
      ]
    },
    {
      "cell_type": "code",
      "execution_count": null,
      "metadata": {
        "id": "buUhk1F04WUy"
      },
      "outputs": [],
      "source": [
        "def solution(priorities, location):\n",
        "    answer = []\n",
        "    length = len(priorities)\n",
        "    num = priorities[location]\n",
        "    if len(priorities) == 1:\n",
        "        return 1\n",
        "\n",
        "    while True:\n",
        "        if max(priorities) == num and location == 0:\n",
        "            answer.append(priorities.pop(0))\n",
        "            break\n",
        "            \n",
        "        if priorities[0] == max(priorities):\n",
        "            answer.append(priorities.pop(0))\n",
        "            length -= 1\n",
        "            location -= 1\n",
        "        else:\n",
        "            priorities.append(priorities.pop(0))\n",
        "            location -= 1\n",
        "        \n",
        "        if location < 0:\n",
        "            location = len(priorities) - 1\n",
        "        \n",
        "        \n",
        "        \n",
        "    return len(answer)"
      ]
    }
  ]
}