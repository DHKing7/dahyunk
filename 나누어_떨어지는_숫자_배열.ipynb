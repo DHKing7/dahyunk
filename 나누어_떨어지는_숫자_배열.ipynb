{
  "nbformat": 4,
  "nbformat_minor": 0,
  "metadata": {
    "colab": {
      "name": "나누어_떨어지는_숫자_배열.ipynb",
      "provenance": [],
      "collapsed_sections": [],
      "authorship_tag": "ABX9TyNQOodjn0fScOPH4MD2VNQ8"
    },
    "kernelspec": {
      "name": "python3",
      "display_name": "Python 3"
    },
    "language_info": {
      "name": "python"
    }
  },
  "cells": [
    {
      "cell_type": "code",
      "execution_count": null,
      "metadata": {
        "id": "lOKtbH6LQkBt"
      },
      "outputs": [],
      "source": [
        "def solution(arr, divisor):\n",
        "    answer = []\n",
        "    if divisor == 1:\n",
        "        return sorted(arr)\n",
        "    for i in arr:\n",
        "        if i % divisor == 0:\n",
        "            answer.append(i)\n",
        "    if len(answer) == 0:\n",
        "        return [-1]\n",
        "    return sorted(answer)"
      ]
    }
  ]
}