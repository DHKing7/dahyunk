{
  "nbformat": 4,
  "nbformat_minor": 0,
  "metadata": {
    "colab": {
      "name": "3진법 뒤집기.ipynb",
      "provenance": [],
      "collapsed_sections": [],
      "authorship_tag": "ABX9TyPdE72sNqX8AS49H59pnGFl",
      "include_colab_link": true
    },
    "kernelspec": {
      "name": "python3",
      "display_name": "Python 3"
    },
    "language_info": {
      "name": "python"
    }
  },
  "cells": [
    {
      "cell_type": "markdown",
      "metadata": {
        "id": "view-in-github",
        "colab_type": "text"
      },
      "source": [
        "<a href=\"https://colab.research.google.com/github/DHKing7/dahyunk/blob/main/3%EC%A7%84%EB%B2%95_%EB%92%A4%EC%A7%91%EA%B8%B0.ipynb\" target=\"_parent\"><img src=\"https://colab.research.google.com/assets/colab-badge.svg\" alt=\"Open In Colab\"/></a>"
      ]
    },
    {
      "cell_type": "code",
      "execution_count": null,
      "metadata": {
        "id": "1BQV2z-eNJXP"
      },
      "outputs": [],
      "source": [
        "def solution(n):\n",
        "    answer = []\n",
        "    i = 0\n",
        "    ten = 0\n",
        "    while n/(3**i) >= 1:\n",
        "        i+=1\n",
        "    for k in range(i,0,-1): \n",
        "        num = n//(3**(k-1))\n",
        "        answer.append(num)\n",
        "        n -= (num*(3**(k-1)))\n",
        "    while i >= 1:\n",
        "        ten += (3**(i-1))*answer[i-1]\n",
        "        i -=1\n",
        "    return ten"
      ]
    }
  ]
}
