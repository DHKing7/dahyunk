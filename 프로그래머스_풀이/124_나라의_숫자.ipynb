{
  "nbformat": 4,
  "nbformat_minor": 0,
  "metadata": {
    "colab": {
      "name": "124_나라의_숫자.ipynb",
      "provenance": [],
      "collapsed_sections": [],
      "authorship_tag": "ABX9TyOicUkSndCoNURgW7JkhCKZ"
    },
    "kernelspec": {
      "name": "python3",
      "display_name": "Python 3"
    },
    "language_info": {
      "name": "python"
    }
  },
  "cells": [
    {
      "cell_type": "code",
      "execution_count": null,
      "metadata": {
        "id": "9NJc6bo6exVF"
      },
      "outputs": [],
      "source": [
        "def solution(n):\n",
        "    str_ = ''\n",
        "    num = n \n",
        "    while True:\n",
        "        if num % 3 == 1:\n",
        "            str_ += '1'\n",
        "        elif num % 3 == 2:\n",
        "            str_ += '2'\n",
        "        else:\n",
        "            num = num-1\n",
        "            str_ += '4'\n",
        "            if num == 3:\n",
        "                break\n",
        "        num = num//3\n",
        "        if num == 0:\n",
        "            break\n",
        "    return str_[::-1]"
      ]
    }
  ]
}
