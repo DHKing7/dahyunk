{
  "nbformat": 4,
  "nbformat_minor": 0,
  "metadata": {
    "colab": {
      "name": "괄호_회전하기.ipynb",
      "provenance": [],
      "collapsed_sections": [],
      "authorship_tag": "ABX9TyPSwsvH8EPlFmAsM3/4FEAj",
      "include_colab_link": true
    },
    "kernelspec": {
      "name": "python3",
      "display_name": "Python 3"
    },
    "language_info": {
      "name": "python"
    }
  },
  "cells": [
    {
      "cell_type": "markdown",
      "metadata": {
        "id": "view-in-github",
        "colab_type": "text"
      },
      "source": [
        "<a href=\"https://colab.research.google.com/github/DHKing7/dahyunk/blob/main/%EA%B4%84%ED%98%B8_%ED%9A%8C%EC%A0%84%ED%95%98%EA%B8%B0.ipynb\" target=\"_parent\"><img src=\"https://colab.research.google.com/assets/colab-badge.svg\" alt=\"Open In Colab\"/></a>"
      ]
    },
    {
      "cell_type": "code",
      "execution_count": null,
      "metadata": {
        "id": "S7O2HeCcB4CZ"
      },
      "outputs": [],
      "source": [
        "def solution(s):\n",
        "    dic = {'[':']','(':')','{':'}', ']':1, ')':1, '}':1}\n",
        "    result = 0\n",
        "    for k in range(len(s)):\n",
        "        stack = []\n",
        "        for i in s:\n",
        "            if len(stack) == 0:\n",
        "                stack.append(i)\n",
        "            elif dic[stack[-1]] == i:\n",
        "                stack.pop()\n",
        "            else:\n",
        "                stack.append(i)\n",
        "        if len(stack) == 0:\n",
        "            result += 1\n",
        "        s = s[1:len(s)] + s[0]\n",
        "    return result"
      ]
    }
  ]
}
