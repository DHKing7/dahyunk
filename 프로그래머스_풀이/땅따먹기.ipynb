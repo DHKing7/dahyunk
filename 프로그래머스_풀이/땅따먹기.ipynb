{
  "nbformat": 4,
  "nbformat_minor": 0,
  "metadata": {
    "colab": {
      "name": "땅따먹기.ipynb",
      "provenance": [],
      "collapsed_sections": [],
      "authorship_tag": "ABX9TyNA5EHd6b3JzM9zmAxODKYe"
    },
    "kernelspec": {
      "name": "python3",
      "display_name": "Python 3"
    },
    "language_info": {
      "name": "python"
    }
  },
  "cells": [
    {
      "cell_type": "code",
      "execution_count": null,
      "metadata": {
        "id": "T7301lx1pnof"
      },
      "outputs": [],
      "source": [
        "def solution(land):\n",
        "    for i in range(1,len(land)):\n",
        "        land[i][0] += max(land[i-1][1], land[i-1][2], land[i-1][3])\n",
        "        land[i][1] += max(land[i-1][0], land[i-1][2], land[i-1][3])\n",
        "        land[i][2] += max(land[i-1][1], land[i-1][0], land[i-1][3])\n",
        "        land[i][3] += max(land[i-1][1], land[i-1][2], land[i-1][0])\n",
        "    return max(land[len(land)-1])"
      ]
    }
  ]
}
