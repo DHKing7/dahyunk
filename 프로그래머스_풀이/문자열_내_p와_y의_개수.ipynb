{
  "nbformat": 4,
  "nbformat_minor": 0,
  "metadata": {
    "colab": {
      "name": "문자열_내_p와_y의_개수.ipynb",
      "provenance": [],
      "authorship_tag": "ABX9TyOhb6ABDfimu0vA3zehQNVz"
    },
    "kernelspec": {
      "name": "python3",
      "display_name": "Python 3"
    },
    "language_info": {
      "name": "python"
    }
  },
  "cells": [
    {
      "cell_type": "code",
      "execution_count": null,
      "metadata": {
        "id": "iRl0MFRTRWrq"
      },
      "outputs": [],
      "source": [
        "def solution(s):\n",
        "    dic = { 'p' : 0,\n",
        "          'y' : 0}\n",
        "    for i in s.lower():\n",
        "        if i in dic:\n",
        "            dic[i] += 1\n",
        "    if dic['p'] == dic['y']:\n",
        "        return True\n",
        "    else:\n",
        "        return False"
      ]
    }
  ]
}
