{
  "nbformat": 4,
  "nbformat_minor": 0,
  "metadata": {
    "colab": {
      "name": "등굣길.ipynb",
      "provenance": [],
      "authorship_tag": "ABX9TyM/7MLP+YEFtrq6tXwVsDSF",
      "include_colab_link": true
    },
    "kernelspec": {
      "name": "python3",
      "display_name": "Python 3"
    },
    "language_info": {
      "name": "python"
    }
  },
  "cells": [
    {
      "cell_type": "markdown",
      "metadata": {
        "id": "view-in-github",
        "colab_type": "text"
      },
      "source": [
        "<a href=\"https://colab.research.google.com/github/DHKing7/dahyunk/blob/main/%EB%93%B1%EA%B5%A3%EA%B8%B8.ipynb\" target=\"_parent\"><img src=\"https://colab.research.google.com/assets/colab-badge.svg\" alt=\"Open In Colab\"/></a>"
      ]
    },
    {
      "cell_type": "code",
      "execution_count": null,
      "metadata": {
        "id": "4nTPvFAWAdxC"
      },
      "outputs": [],
      "source": [
        "def solution(m, n, puddles):\n",
        "    dp = [[0]*m for j in range(n)]\n",
        "    for i in range(n):\n",
        "        if [1,i+1] in puddles:\n",
        "            break\n",
        "        dp[i][0] = 1\n",
        "    for i in range(m):\n",
        "        if [i+1,1] in puddles:\n",
        "            break\n",
        "        dp[0][i] = 1\n",
        "    for i in range(1,n):\n",
        "        for j in range(1,m):\n",
        "            if [j+1,i+1] in puddles:\n",
        "                continue\n",
        "            dp[i][j] = dp[i-1][j] + dp[i][j-1]\n",
        "    return dp[-1][-1] % 1000000007"
      ]
    }
  ]
}
