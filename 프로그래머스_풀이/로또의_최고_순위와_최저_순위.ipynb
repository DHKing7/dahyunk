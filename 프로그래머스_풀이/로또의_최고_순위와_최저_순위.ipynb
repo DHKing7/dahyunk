{
  "nbformat": 4,
  "nbformat_minor": 0,
  "metadata": {
    "colab": {
      "name": "로또의_최고_순위와_최저_순위.ipynb",
      "provenance": [],
      "collapsed_sections": [],
      "authorship_tag": "ABX9TyOVkupz0MF8pNDV7ceKXF3s",
      "include_colab_link": true
    },
    "kernelspec": {
      "name": "python3",
      "display_name": "Python 3"
    },
    "language_info": {
      "name": "python"
    }
  },
  "cells": [
    {
      "cell_type": "markdown",
      "metadata": {
        "id": "view-in-github",
        "colab_type": "text"
      },
      "source": [
        "<a href=\"https://colab.research.google.com/github/DHKing7/dahyunk/blob/main/%EB%A1%9C%EB%98%90%EC%9D%98_%EC%B5%9C%EA%B3%A0_%EC%88%9C%EC%9C%84%EC%99%80_%EC%B5%9C%EC%A0%80_%EC%88%9C%EC%9C%84.ipynb\" target=\"_parent\"><img src=\"https://colab.research.google.com/assets/colab-badge.svg\" alt=\"Open In Colab\"/></a>"
      ]
    },
    {
      "cell_type": "code",
      "execution_count": null,
      "metadata": {
        "id": "Vuu-_xnHCQgj"
      },
      "outputs": [],
      "source": [
        "def solution(lottos, win_nums):\n",
        "    answer = []\n",
        "    k = 7\n",
        "    for i in win_nums:\n",
        "        if i in lottos:\n",
        "            k -= 1\n",
        "    if k >= 6:\n",
        "        answer.append(6)\n",
        "    else:\n",
        "        answer.append(k)\n",
        "    for i in lottos:\n",
        "        if i == 0:\n",
        "            k -= 1\n",
        "    if k >= 6:\n",
        "        answer.append(6)\n",
        "    else:\n",
        "        answer.append(k)\n",
        "    answer.reverse()\n",
        "    return answer"
      ]
    }
  ]
}
