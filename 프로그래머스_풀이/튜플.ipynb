{
  "nbformat": 4,
  "nbformat_minor": 0,
  "metadata": {
    "colab": {
      "name": "튜플.ipynb",
      "provenance": [],
      "collapsed_sections": [],
      "authorship_tag": "ABX9TyPETc3q1ss1CS+mInxQluBm"
    },
    "kernelspec": {
      "name": "python3",
      "display_name": "Python 3"
    },
    "language_info": {
      "name": "python"
    }
  },
  "cells": [
    {
      "cell_type": "code",
      "execution_count": null,
      "metadata": {
        "id": "yV2hDH6PfwWK"
      },
      "outputs": [],
      "source": [
        "def solution(s):\n",
        "    answer = []\n",
        "    s = s.replace('{',\"\")\n",
        "    s = s.replace(\"}\",\"\")\n",
        "    s = s.split(',')\n",
        "    k = set(s)\n",
        "    for i in k:\n",
        "        answer.append(s.count(i))\n",
        "    print(answer)\n",
        "    s = list(k)\n",
        "    stack = []\n",
        "    for i in s:\n",
        "        stack.append(int(i))\n",
        "    tt = []\n",
        "    while sum(answer) >0:\n",
        "        tt.append(stack[answer.index(max(answer))])\n",
        "        answer[answer.index(max(answer))] = 0\n",
        "    return tt"
      ]
    }
  ]
}
