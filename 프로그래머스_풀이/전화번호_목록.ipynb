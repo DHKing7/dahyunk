{
  "nbformat": 4,
  "nbformat_minor": 0,
  "metadata": {
    "colab": {
      "name": "전화번호_목록.ipynb",
      "provenance": [],
      "collapsed_sections": [],
      "authorship_tag": "ABX9TyN2kNTw+Tae42YwloqC47Ef"
    },
    "kernelspec": {
      "name": "python3",
      "display_name": "Python 3"
    },
    "language_info": {
      "name": "python"
    }
  },
  "cells": [
    {
      "cell_type": "code",
      "execution_count": null,
      "metadata": {
        "id": "TqPtWDrGgAtd"
      },
      "outputs": [],
      "source": [
        "def solution(phone_book):\n",
        "    answer = True\n",
        "    phone_book = sorted(phone_book)\n",
        "    for i in range(len(phone_book)-1):\n",
        "        if phone_book[i]==phone_book[i+1][:len(phone_book[i])]:\n",
        "            return False\n",
        "    return answer"
      ]
    }
  ]
}
