{
  "nbformat": 4,
  "nbformat_minor": 0,
  "metadata": {
    "colab": {
      "name": "2016년.ipynb",
      "provenance": [],
      "collapsed_sections": [],
      "authorship_tag": "ABX9TyOl75TQwWdKQM8oI2730lIc",
      "include_colab_link": true
    },
    "kernelspec": {
      "name": "python3",
      "display_name": "Python 3"
    },
    "language_info": {
      "name": "python"
    }
  },
  "cells": [
    {
      "cell_type": "markdown",
      "metadata": {
        "id": "view-in-github",
        "colab_type": "text"
      },
      "source": [
        "<a href=\"https://colab.research.google.com/github/DHKing7/dahyunk/blob/main/2016%EB%85%84.ipynb\" target=\"_parent\"><img src=\"https://colab.research.google.com/assets/colab-badge.svg\" alt=\"Open In Colab\"/></a>"
      ]
    },
    {
      "cell_type": "code",
      "execution_count": null,
      "metadata": {
        "id": "2S531OkcOKm3"
      },
      "outputs": [],
      "source": [
        "def solution(a, b):\n",
        "    day = [31, 29, 31, 30, 31, 30, 31, 31, 30, 31, 30, 31]\n",
        "    dic = {3: 'SUN',\n",
        "           4: \"MON\",\n",
        "           5: 'TUE',\n",
        "           6: 'WED',\n",
        "           0: 'THU',\n",
        "           1: 'FRI',\n",
        "           2: 'SAT'}\n",
        "    b += sum(day[:a-1])\n",
        "    answer = dic[b%7]\n",
        "    return answer"
      ]
    }
  ]
}
