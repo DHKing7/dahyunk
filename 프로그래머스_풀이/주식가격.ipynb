{
  "nbformat": 4,
  "nbformat_minor": 0,
  "metadata": {
    "colab": {
      "name": "주식가격.ipynb",
      "provenance": [],
      "collapsed_sections": [],
      "authorship_tag": "ABX9TyP5y7k/8ijhX2C+s+qviU6B",
      "include_colab_link": true
    },
    "kernelspec": {
      "name": "python3",
      "display_name": "Python 3"
    },
    "language_info": {
      "name": "python"
    }
  },
  "cells": [
    {
      "cell_type": "markdown",
      "metadata": {
        "id": "view-in-github",
        "colab_type": "text"
      },
      "source": [
        "<a href=\"https://colab.research.google.com/github/DHKing7/dahyunk/blob/main/%EC%A3%BC%EC%8B%9D%EA%B0%80%EA%B2%A9.ipynb\" target=\"_parent\"><img src=\"https://colab.research.google.com/assets/colab-badge.svg\" alt=\"Open In Colab\"/></a>"
      ]
    },
    {
      "cell_type": "code",
      "execution_count": null,
      "metadata": {
        "id": "P218JaeCml28"
      },
      "outputs": [],
      "source": [
        "def solution(prices):\n",
        "    answer = []\n",
        "    for i in range(len(prices)-1):\n",
        "        num = 0\n",
        "        for j in range(i,len(prices)-1):\n",
        "            if prices[i] <= prices[j]:\n",
        "                num += 1\n",
        "            else:\n",
        "                break\n",
        "        answer.append(num)\n",
        "    answer.append(0)\n",
        "    return answer"
      ]
    }
  ]
}
