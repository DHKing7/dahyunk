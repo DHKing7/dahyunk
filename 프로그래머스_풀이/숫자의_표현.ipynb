{
  "nbformat": 4,
  "nbformat_minor": 0,
  "metadata": {
    "colab": {
      "name": "숫자의_표현.ipynb",
      "provenance": [],
      "authorship_tag": "ABX9TyPXbLXdy+7DrQXHX/zqn4nA",
      "include_colab_link": true
    },
    "kernelspec": {
      "name": "python3",
      "display_name": "Python 3"
    },
    "language_info": {
      "name": "python"
    }
  },
  "cells": [
    {
      "cell_type": "markdown",
      "metadata": {
        "id": "view-in-github",
        "colab_type": "text"
      },
      "source": [
        "<a href=\"https://colab.research.google.com/github/DHKing7/dahyunk/blob/main/%EC%88%AB%EC%9E%90%EC%9D%98_%ED%91%9C%ED%98%84.ipynb\" target=\"_parent\"><img src=\"https://colab.research.google.com/assets/colab-badge.svg\" alt=\"Open In Colab\"/></a>"
      ]
    },
    {
      "cell_type": "code",
      "execution_count": null,
      "metadata": {
        "id": "DMOeeZYfp5cZ"
      },
      "outputs": [],
      "source": [
        "def solution(n):\n",
        "    answer = 1\n",
        "    for i in range(1,n//2+1):\n",
        "        num = 0\n",
        "        for k in range(i+1,n//2+2):\n",
        "            num += k\n",
        "            if n-i < num:\n",
        "                break\n",
        "            elif n-i == num:\n",
        "                answer += 1\n",
        "                break\n",
        "        \n",
        "    return answer"
      ]
    }
  ]
}
