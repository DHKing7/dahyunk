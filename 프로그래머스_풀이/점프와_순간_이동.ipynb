{
  "nbformat": 4,
  "nbformat_minor": 0,
  "metadata": {
    "colab": {
      "name": "점프와_순간_이동.ipynb",
      "provenance": [],
      "collapsed_sections": [],
      "authorship_tag": "ABX9TyPppNUy7E3MpL8+diHcnV1/",
      "include_colab_link": true
    },
    "kernelspec": {
      "name": "python3",
      "display_name": "Python 3"
    },
    "language_info": {
      "name": "python"
    }
  },
  "cells": [
    {
      "cell_type": "markdown",
      "metadata": {
        "id": "view-in-github",
        "colab_type": "text"
      },
      "source": [
        "<a href=\"https://colab.research.google.com/github/DHKing7/dahyunk/blob/main/%EC%A0%90%ED%94%84%EC%99%80_%EC%88%9C%EA%B0%84_%EC%9D%B4%EB%8F%99.ipynb\" target=\"_parent\"><img src=\"https://colab.research.google.com/assets/colab-badge.svg\" alt=\"Open In Colab\"/></a>"
      ]
    },
    {
      "cell_type": "code",
      "execution_count": null,
      "metadata": {
        "id": "LrvaAivAnvMj"
      },
      "outputs": [],
      "source": [
        "def solution(n):\n",
        "    ans = 0\n",
        "    \n",
        "    while n > 0:\n",
        "        if n % 2 == 0:\n",
        "            n = int(n/2)\n",
        "        else:\n",
        "            n = int((n-1)/2)\n",
        "            ans += 1\n",
        "    return ans"
      ]
    }
  ]
}
