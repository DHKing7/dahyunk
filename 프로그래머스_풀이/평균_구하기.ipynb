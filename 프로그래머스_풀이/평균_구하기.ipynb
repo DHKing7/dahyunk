{
  "nbformat": 4,
  "nbformat_minor": 0,
  "metadata": {
    "colab": {
      "name": "평균_구하기.ipynb",
      "provenance": [],
      "collapsed_sections": [],
      "authorship_tag": "ABX9TyPhrixMLGEKX9Y0o1ES+VY1"
    },
    "kernelspec": {
      "name": "python3",
      "display_name": "Python 3"
    },
    "language_info": {
      "name": "python"
    }
  },
  "cells": [
    {
      "cell_type": "code",
      "execution_count": null,
      "metadata": {
        "id": "Fo5cnBegYsDq"
      },
      "outputs": [],
      "source": [
        "def solution(arr):\n",
        "    answer = 0\n",
        "    for i in arr:\n",
        "        answer +=i\n",
        "    return answer/len(arr)"
      ]
    }
  ]
}
