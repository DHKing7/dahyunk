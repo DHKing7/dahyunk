{
  "nbformat": 4,
  "nbformat_minor": 0,
  "metadata": {
    "colab": {
      "name": "피보나치_수.ipynb",
      "provenance": [],
      "collapsed_sections": [],
      "authorship_tag": "ABX9TyMrU5tQSbE8vTa8XgmP9MES",
      "include_colab_link": true
    },
    "kernelspec": {
      "name": "python3",
      "display_name": "Python 3"
    },
    "language_info": {
      "name": "python"
    }
  },
  "cells": [
    {
      "cell_type": "markdown",
      "metadata": {
        "id": "view-in-github",
        "colab_type": "text"
      },
      "source": [
        "<a href=\"https://colab.research.google.com/github/DHKing7/dahyunk/blob/main/%ED%94%BC%EB%B3%B4%EB%82%98%EC%B9%98_%EC%88%98.ipynb\" target=\"_parent\"><img src=\"https://colab.research.google.com/assets/colab-badge.svg\" alt=\"Open In Colab\"/></a>"
      ]
    },
    {
      "cell_type": "code",
      "execution_count": null,
      "metadata": {
        "id": "ToHT7aYKrxZi"
      },
      "outputs": [],
      "source": [
        "def fib(n):\n",
        "    if n <= 0:\n",
        "        return 0\n",
        "    elif n == 1:\n",
        "        return 1\n",
        "    else:\n",
        "        return fib(n-1) + fib(n-2)\n",
        "def solution(n):\n",
        "    k0 = 0\n",
        "    k1 = 1\n",
        "    k2 = 0\n",
        "    while n > 1:\n",
        "        k2 = k0 + k1\n",
        "        k0 = k1\n",
        "        k1 = k2\n",
        "        n -= 1\n",
        "    return k2 % 1234567"
      ]
    }
  ]
}
