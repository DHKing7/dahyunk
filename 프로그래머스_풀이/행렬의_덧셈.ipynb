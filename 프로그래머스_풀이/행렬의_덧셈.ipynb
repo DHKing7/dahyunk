{
  "nbformat": 4,
  "nbformat_minor": 0,
  "metadata": {
    "colab": {
      "name": "행렬의_덧셈.ipynb",
      "provenance": [],
      "collapsed_sections": [],
      "authorship_tag": "ABX9TyPBZUiZMa9KEiv18Bgm0tNp"
    },
    "kernelspec": {
      "name": "python3",
      "display_name": "Python 3"
    },
    "language_info": {
      "name": "python"
    }
  },
  "cells": [
    {
      "cell_type": "code",
      "execution_count": null,
      "metadata": {
        "id": "RCy1qiOlZV3P"
      },
      "outputs": [],
      "source": [
        "def solution(arr1, arr2):\n",
        "    k1 = []\n",
        "    k2 = []\n",
        "    answer = []\n",
        "    \n",
        "    for i in arr1:\n",
        "        k1 += i\n",
        "    for i in arr2:\n",
        "        k2 += i\n",
        "    if len(k1) == len(k2):\n",
        "        for i in range(len(k1)):\n",
        "            answer.append(k1[i] + k2[i])\n",
        "    n = int(len(answer)/len(arr1))   \n",
        "    return [answer[i:i+n] for i in range(0, len(answer), n)]"
      ]
    }
  ]
}
