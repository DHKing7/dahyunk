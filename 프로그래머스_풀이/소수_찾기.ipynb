{
  "nbformat": 4,
  "nbformat_minor": 0,
  "metadata": {
    "colab": {
      "name": "소수_찾기.ipynb",
      "provenance": [],
      "collapsed_sections": [],
      "authorship_tag": "ABX9TyOvbCDKdAv4mo7ooZ2HgHBq"
    },
    "kernelspec": {
      "name": "python3",
      "display_name": "Python 3"
    },
    "language_info": {
      "name": "python"
    }
  },
  "cells": [
    {
      "cell_type": "code",
      "execution_count": null,
      "metadata": {
        "id": "hQhU3H1_TlyJ"
      },
      "outputs": [],
      "source": [
        "def solution(n):\n",
        "    if n < 2 or n > 1000000:\n",
        "        return False\n",
        "    else:\n",
        "        if n == 2:\n",
        "            answer = [2]\n",
        "            return len(answer)\n",
        "        elif n == 3 or n == 4:\n",
        "            answer = [2,3]\n",
        "            return len(answer)\n",
        "        else:\n",
        "            answer = [2,3]\n",
        "            for i in range(5,n+1,2):\n",
        "                is_Prime = 1\n",
        "                for k in range(2,(int((i)**0.5)+1)):\n",
        "                    if i%k == 0:\n",
        "                        is_Prime = 0\n",
        "                        break\n",
        "                if is_Prime == 1:\n",
        "                    answer.append(i)\n",
        "            return len(answer)"
      ]
    }
  ]
}
