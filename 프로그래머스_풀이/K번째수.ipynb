{
  "nbformat": 4,
  "nbformat_minor": 0,
  "metadata": {
    "colab": {
      "name": "K번째수.ipynb",
      "provenance": [],
      "collapsed_sections": [],
      "authorship_tag": "ABX9TyM5KBzD3Vw4sdTtMRMvuAjf",
      "include_colab_link": true
    },
    "kernelspec": {
      "name": "python3",
      "display_name": "Python 3"
    },
    "language_info": {
      "name": "python"
    }
  },
  "cells": [
    {
      "cell_type": "markdown",
      "metadata": {
        "id": "view-in-github",
        "colab_type": "text"
      },
      "source": [
        "<a href=\"https://colab.research.google.com/github/DHKing7/dahyunk/blob/main/K%EB%B2%88%EC%A7%B8%EC%88%98.ipynb\" target=\"_parent\"><img src=\"https://colab.research.google.com/assets/colab-badge.svg\" alt=\"Open In Colab\"/></a>"
      ]
    },
    {
      "cell_type": "code",
      "execution_count": null,
      "metadata": {
        "id": "BEytLcsMJMJ2"
      },
      "outputs": [],
      "source": [
        "def solution(array, commands):\n",
        "    answer = []\n",
        "    for i in range(len(commands)):\n",
        "        k = array[commands[i][0]-1:commands[i][1]]\n",
        "        k.sort()\n",
        "        s = commands[i][2]-1\n",
        "        answer.append(k[s])\n",
        "    return answer"
      ]
    }
  ]
}
