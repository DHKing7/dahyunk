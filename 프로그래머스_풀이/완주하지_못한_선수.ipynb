{
  "nbformat": 4,
  "nbformat_minor": 0,
  "metadata": {
    "colab": {
      "name": "완주하지_못한_선수.ipynb",
      "provenance": [],
      "collapsed_sections": [],
      "authorship_tag": "ABX9TyPQMPl8Wy4XQfhMNycNYW2x"
    },
    "kernelspec": {
      "name": "python3",
      "display_name": "Python 3"
    },
    "language_info": {
      "name": "python"
    }
  },
  "cells": [
    {
      "cell_type": "code",
      "execution_count": null,
      "metadata": {
        "id": "hxDWdblKJKL9"
      },
      "outputs": [],
      "source": [
        "def solution(participant, completion):\n",
        "    if len(participant) > 100000:\n",
        "        print(\"참여자의 수는 100000명 이하여야합니다.\")\n",
        "    elif len(participant) - 1 != len(completion):\n",
        "        print(\"오류\")\n",
        "    else:\n",
        "        p = sorted(participant)\n",
        "        c = sorted(completion)\n",
        "        c.append(\"\")\n",
        "        for i in range(len(participant)):\n",
        "            if p[i] == c[i]:\n",
        "                continue\n",
        "            else:\n",
        "                return p[i]"
      ]
    }
  ]
}
