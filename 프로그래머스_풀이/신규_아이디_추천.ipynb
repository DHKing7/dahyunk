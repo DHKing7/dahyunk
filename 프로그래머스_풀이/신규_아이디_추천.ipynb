{
  "nbformat": 4,
  "nbformat_minor": 0,
  "metadata": {
    "colab": {
      "name": "신규_아이디_추천.ipynb",
      "provenance": [],
      "collapsed_sections": [],
      "authorship_tag": "ABX9TyMT/H01UiOPH4MQY1FEVLRI",
      "include_colab_link": true
    },
    "kernelspec": {
      "name": "python3",
      "display_name": "Python 3"
    },
    "language_info": {
      "name": "python"
    }
  },
  "cells": [
    {
      "cell_type": "markdown",
      "metadata": {
        "id": "view-in-github",
        "colab_type": "text"
      },
      "source": [
        "<a href=\"https://colab.research.google.com/github/DHKing7/dahyunk/blob/main/%EC%8B%A0%EA%B7%9C_%EC%95%84%EC%9D%B4%EB%94%94_%EC%B6%94%EC%B2%9C.ipynb\" target=\"_parent\"><img src=\"https://colab.research.google.com/assets/colab-badge.svg\" alt=\"Open In Colab\"/></a>"
      ]
    },
    {
      "cell_type": "code",
      "execution_count": null,
      "metadata": {
        "id": "LIKfy8KQCj_i"
      },
      "outputs": [],
      "source": [
        "def solution(new_id):\n",
        "    answer = ''\n",
        "    new = new_id.lower()\n",
        "    kk = '0123456789abcdefghijklmnopqrstuvwxyz-_.'\n",
        "    stack = []\n",
        "    for i in new:\n",
        "        if i in kk:\n",
        "            answer += i\n",
        "    while '..' in answer:\n",
        "        answer = answer.replace('..','.')\n",
        "    if answer[0] == '.':\n",
        "        if len(answer) > 1:\n",
        "            answer = answer[1:]\n",
        "        else:\n",
        "            answer = 'a'\n",
        "    if answer[-1] == '.':\n",
        "        if len(answer) > 1:\n",
        "            answer = answer[:len(answer)-1]\n",
        "    if len(answer) == 0:\n",
        "        answer = 'a'\n",
        "    elif len(answer) > 15:\n",
        "        answer = answer[:15]\n",
        "        if answer[-1] == '.':\n",
        "            answer = answer[:len(answer)-1]\n",
        "    while len(answer) < 3:\n",
        "        answer += answer[-1]\n",
        "    return answer"
      ]
    }
  ]
}
