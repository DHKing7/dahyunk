{
  "nbformat": 4,
  "nbformat_minor": 0,
  "metadata": {
    "colab": {
      "name": "문자열_내_마음대로_정렬하기.ipynb",
      "provenance": [],
      "collapsed_sections": [],
      "authorship_tag": "ABX9TyOl2RVfrfZ3B3K9Pno6Oy1D"
    },
    "kernelspec": {
      "name": "python3",
      "display_name": "Python 3"
    },
    "language_info": {
      "name": "python"
    }
  },
  "cells": [
    {
      "cell_type": "code",
      "execution_count": null,
      "metadata": {
        "id": "dQEV1y7TRGtX"
      },
      "outputs": [],
      "source": [
        "def solution(strings, n):\n",
        "    answer = []\n",
        "    for i in strings:\n",
        "        answer.append(i[n:n+1])\n",
        "    answer = set(answer)\n",
        "    answer = sorted(list(answer))\n",
        "    \n",
        "    stack = [i for k in range(len(answer)) for i in sorted(strings) if i[n] == answer[k]]\n",
        "        \n",
        "    return stack"
      ]
    }
  ]
}
