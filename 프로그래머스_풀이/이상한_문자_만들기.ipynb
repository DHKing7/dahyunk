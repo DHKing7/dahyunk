{
  "nbformat": 4,
  "nbformat_minor": 0,
  "metadata": {
    "colab": {
      "name": "이상한_문자_만들기.ipynb",
      "provenance": [],
      "collapsed_sections": [],
      "authorship_tag": "ABX9TyNdAmHAEkLjWAGhQ8QY4/JI"
    },
    "kernelspec": {
      "name": "python3",
      "display_name": "Python 3"
    },
    "language_info": {
      "name": "python"
    }
  },
  "cells": [
    {
      "cell_type": "code",
      "execution_count": null,
      "metadata": {
        "id": "_btjYHAVWVa8"
      },
      "outputs": [],
      "source": [
        "def solution(s):\n",
        "    answer= []\n",
        "    stack = s.split(' ')\n",
        "    b = ''\n",
        "    for i in stack:\n",
        "        a = list(i)\n",
        "        for k in range(0,len(i),2):\n",
        "            a[k] = a[k].upper()\n",
        "        for k in range(1,len(i),2):\n",
        "            a[k] = a[k].lower()\n",
        "        b = ''.join(s for s in a)\n",
        "        answer.append(b)\n",
        "    return ' '.join(s for s in answer)"
      ]
    }
  ]
}
