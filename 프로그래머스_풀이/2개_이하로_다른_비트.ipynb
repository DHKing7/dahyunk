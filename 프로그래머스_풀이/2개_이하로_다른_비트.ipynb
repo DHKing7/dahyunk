{
  "nbformat": 4,
  "nbformat_minor": 0,
  "metadata": {
    "colab": {
      "name": "2개_이하로_다른_비트.ipynb",
      "provenance": [],
      "collapsed_sections": [],
      "authorship_tag": "ABX9TyNDpLpnfZ/e2LbNxtNylF6T",
      "include_colab_link": true
    },
    "kernelspec": {
      "name": "python3",
      "display_name": "Python 3"
    },
    "language_info": {
      "name": "python"
    }
  },
  "cells": [
    {
      "cell_type": "markdown",
      "metadata": {
        "id": "view-in-github",
        "colab_type": "text"
      },
      "source": [
        "<a href=\"https://colab.research.google.com/github/DHKing7/dahyunk/blob/main/2%EA%B0%9C_%EC%9D%B4%ED%95%98%EB%A1%9C_%EB%8B%A4%EB%A5%B8_%EB%B9%84%ED%8A%B8.ipynb\" target=\"_parent\"><img src=\"https://colab.research.google.com/assets/colab-badge.svg\" alt=\"Open In Colab\"/></a>"
      ]
    },
    {
      "cell_type": "code",
      "execution_count": null,
      "metadata": {
        "id": "8-SQ5PMYDZU1"
      },
      "outputs": [],
      "source": [
        "def solution(numbers):\n",
        "    answer = []\n",
        "    for i in numbers:\n",
        "        num = i\n",
        "        count_0 = bin(num).count('0') - 1\n",
        "        count_1 = bin(num).count('1')\n",
        "        \n",
        "        if bin(num & (i+1)) == \"0b0\" and num >= 7:\n",
        "                answer.append(int(\"10\"+\"1\"*(count_1-1),2))\n",
        "        elif count_0 == 1 and num%2 == 1:\n",
        "            k = bin(num)\n",
        "            k = k.replace(\"01\",\"10\")\n",
        "            answer.append(int(k[2:],2))\n",
        "        else:\n",
        "            while True:\n",
        "                i += 1\n",
        "                if bin(num^i).count('1') <= 2:\n",
        "                    answer.append(i)\n",
        "                    break \n",
        "    return answer"
      ]
    }
  ]
}
