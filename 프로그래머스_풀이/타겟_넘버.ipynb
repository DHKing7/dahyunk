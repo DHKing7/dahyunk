{
  "nbformat": 4,
  "nbformat_minor": 0,
  "metadata": {
    "colab": {
      "name": "타겟_넘버.ipynb",
      "provenance": [],
      "collapsed_sections": [],
      "authorship_tag": "ABX9TyOb9u0hgaZioeYrvPbjChgE",
      "include_colab_link": true
    },
    "kernelspec": {
      "name": "python3",
      "display_name": "Python 3"
    },
    "language_info": {
      "name": "python"
    }
  },
  "cells": [
    {
      "cell_type": "markdown",
      "metadata": {
        "id": "view-in-github",
        "colab_type": "text"
      },
      "source": [
        "<a href=\"https://colab.research.google.com/github/DHKing7/dahyunk/blob/main/%ED%83%80%EA%B2%9F_%EB%84%98%EB%B2%84.ipynb\" target=\"_parent\"><img src=\"https://colab.research.google.com/assets/colab-badge.svg\" alt=\"Open In Colab\"/></a>"
      ]
    },
    {
      "cell_type": "code",
      "execution_count": null,
      "metadata": {
        "id": "MeILaFFEfDAT"
      },
      "outputs": [],
      "source": [
        "def dfs(list_, index, op, target):\n",
        "    global num,count\n",
        "    num = num + list_[index] * op\n",
        "    if index == N-1:\n",
        "        if num == target:\n",
        "            count += 1\n",
        "            return True\n",
        "        else:\n",
        "            return False\n",
        "    dfs(list_,index+1,1,target)\n",
        "    num = num - list_[index+1]\n",
        "    dfs(list_,index+1,-1,target)\n",
        "    num = num + list_[index+1]\n",
        "    return num\n",
        "\n",
        "\n",
        "def solution(numbers, target):\n",
        "    answer = 0\n",
        "    global N, num, count\n",
        "    count = 0\n",
        "    list_ = [0] + numbers \n",
        "    N = len(list_)\n",
        "    num = 0\n",
        "    dfs(list_,0,1,target)\n",
        "    return count"
      ]
    }
  ]
}
