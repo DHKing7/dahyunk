{
  "nbformat": 4,
  "nbformat_minor": 0,
  "metadata": {
    "colab": {
      "name": "삼각_달팽이.ipynb",
      "provenance": [],
      "authorship_tag": "ABX9TyMB5TyfjUFILvWgiXtLP3Nw",
      "include_colab_link": true
    },
    "kernelspec": {
      "name": "python3",
      "display_name": "Python 3"
    },
    "language_info": {
      "name": "python"
    }
  },
  "cells": [
    {
      "cell_type": "markdown",
      "metadata": {
        "id": "view-in-github",
        "colab_type": "text"
      },
      "source": [
        "<a href=\"https://colab.research.google.com/github/DHKing7/dahyunk/blob/main/%EC%82%BC%EA%B0%81_%EB%8B%AC%ED%8C%BD%EC%9D%B4.ipynb\" target=\"_parent\"><img src=\"https://colab.research.google.com/assets/colab-badge.svg\" alt=\"Open In Colab\"/></a>"
      ]
    },
    {
      "cell_type": "code",
      "execution_count": null,
      "metadata": {
        "id": "zBOFeQQlCdHN"
      },
      "outputs": [],
      "source": [
        "def solution(n):\n",
        "    answer = [[0]*i for i in range(1,n+1)]\n",
        "    check = n%3\n",
        "    index = [0,1,2]\n",
        "    k = index.index(check)\n",
        "    col = 0\n",
        "    row = 0\n",
        "    num = 1\n",
        "    while n > 0:   \n",
        "        for i in range(n):\n",
        "            if n%3 == index[k]:\n",
        "                answer[row][col] = num\n",
        "                row+=1\n",
        "                if i == (n-1):\n",
        "                    row-=1\n",
        "            elif n%3 == index[k-1]:\n",
        "                col+=1\n",
        "                answer[row][col] = num\n",
        "                if i == (n-1):\n",
        "                    col-=1\n",
        "                    row-=1\n",
        "            else:              \n",
        "                answer[row][col] = num\n",
        "                col-=1\n",
        "                row-=1\n",
        "                if i == (n-1):\n",
        "                    col += 1\n",
        "                    row += 2\n",
        "            num += 1\n",
        "        n -= 1\n",
        "        stack = []\n",
        "        for i in answer:\n",
        "            stack += i\n",
        "    return stack"
      ]
    }
  ]
}
