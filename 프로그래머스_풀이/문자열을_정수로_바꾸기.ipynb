{
  "nbformat": 4,
  "nbformat_minor": 0,
  "metadata": {
    "colab": {
      "name": "문자열을_정수로_바꾸기.ipynb",
      "provenance": [],
      "authorship_tag": "ABX9TyOhXCLN8daWCd7p0YCynA8e"
    },
    "kernelspec": {
      "name": "python3",
      "display_name": "Python 3"
    },
    "language_info": {
      "name": "python"
    }
  },
  "cells": [
    {
      "cell_type": "code",
      "execution_count": null,
      "metadata": {
        "id": "wdE9v1pmUMgu"
      },
      "outputs": [],
      "source": [
        "def solution(s):\n",
        "    answer = 0\n",
        "    if \"+\" in s:\n",
        "        s.replace(\"+\",\"\")\n",
        "    answer = int(s)\n",
        "    return answer"
      ]
    }
  ]
}
