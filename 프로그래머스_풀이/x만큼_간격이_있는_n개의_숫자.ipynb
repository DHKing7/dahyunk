{
  "nbformat": 4,
  "nbformat_minor": 0,
  "metadata": {
    "colab": {
      "name": "x만큼_간격이_있는_n개의_숫자.ipynb",
      "provenance": [],
      "collapsed_sections": [],
      "authorship_tag": "ABX9TyMe2VfXu2jIkRLp4dcfg3On"
    },
    "kernelspec": {
      "name": "python3",
      "display_name": "Python 3"
    },
    "language_info": {
      "name": "python"
    }
  },
  "cells": [
    {
      "cell_type": "code",
      "execution_count": null,
      "metadata": {
        "id": "j501JCdoZmWo"
      },
      "outputs": [],
      "source": [
        "def solution(x, n):\n",
        "    answer = []\n",
        "    \n",
        "    if x > 0:\n",
        "        for i in range(x,(x*n+1),x):\n",
        "            answer.append(i)\n",
        "    elif x < 0:\n",
        "        for i in range(x,(x*n-1),x):\n",
        "            answer.append(i)\n",
        "    else:\n",
        "        for i in range(n):\n",
        "            answer.append(0)\n",
        "    return answer"
      ]
    }
  ]
}
