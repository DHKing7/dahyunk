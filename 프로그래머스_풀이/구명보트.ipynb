{
  "nbformat": 4,
  "nbformat_minor": 0,
  "metadata": {
    "colab": {
      "name": "구명보트.ipynb",
      "provenance": [],
      "collapsed_sections": [],
      "authorship_tag": "ABX9TyPr2u2CypvxvO8+YEDTbHlK",
      "include_colab_link": true
    },
    "kernelspec": {
      "name": "python3",
      "display_name": "Python 3"
    },
    "language_info": {
      "name": "python"
    }
  },
  "cells": [
    {
      "cell_type": "markdown",
      "metadata": {
        "id": "view-in-github",
        "colab_type": "text"
      },
      "source": [
        "<a href=\"https://colab.research.google.com/github/DHKing7/dahyunk/blob/main/%EA%B5%AC%EB%AA%85%EB%B3%B4%ED%8A%B8.ipynb\" target=\"_parent\"><img src=\"https://colab.research.google.com/assets/colab-badge.svg\" alt=\"Open In Colab\"/></a>"
      ]
    },
    {
      "cell_type": "code",
      "execution_count": null,
      "metadata": {
        "id": "uRHseLlMm9CB"
      },
      "outputs": [],
      "source": [
        "def solution(people, limit):\n",
        "    # answer = []\n",
        "    people = sorted(people , reverse = True)\n",
        "    # boat = []\n",
        "    # num = len(people)\n",
        "    first_index = 0\n",
        "    end_index = len(people) - 1\n",
        "    count = 0\n",
        "    while first_index < end_index:\n",
        "        if people[first_index] + people[end_index] <= limit:\n",
        "            count += 1\n",
        "            first_index += 1\n",
        "            end_index -= 1\n",
        "        else:\n",
        "            count += 1\n",
        "            first_index += 1\n",
        "        if first_index == end_index:\n",
        "            count += 1\n",
        "    return count"
      ]
    }
  ]
}
