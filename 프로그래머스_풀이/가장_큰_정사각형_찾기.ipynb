{
  "nbformat": 4,
  "nbformat_minor": 0,
  "metadata": {
    "colab": {
      "name": "가장_큰_정사각형_찾기.ipynb",
      "provenance": [],
      "collapsed_sections": [],
      "authorship_tag": "ABX9TyO0LTF3/bylFk1yQFD0/bW8",
      "include_colab_link": true
    },
    "kernelspec": {
      "name": "python3",
      "display_name": "Python 3"
    },
    "language_info": {
      "name": "python"
    }
  },
  "cells": [
    {
      "cell_type": "markdown",
      "metadata": {
        "id": "view-in-github",
        "colab_type": "text"
      },
      "source": [
        "<a href=\"https://colab.research.google.com/github/DHKing7/dahyunk/blob/main/%EA%B0%80%EC%9E%A5_%ED%81%B0_%EC%A0%95%EC%82%AC%EA%B0%81%ED%98%95_%EC%B0%BE%EA%B8%B0.ipynb\" target=\"_parent\"><img src=\"https://colab.research.google.com/assets/colab-badge.svg\" alt=\"Open In Colab\"/></a>"
      ]
    },
    {
      "cell_type": "code",
      "execution_count": null,
      "metadata": {
        "id": "beMgkqxxoxlh"
      },
      "outputs": [],
      "source": [
        "def solution(board):\n",
        "    for i in range(1,len(board)):\n",
        "        for j in range(1,len(board[0])):\n",
        "            if board[i][j] != 0:\n",
        "                board[i][j] = min(board[i-1][j-1], board[i-1][j],board[i][j-1]) + 1\n",
        "                \n",
        "    # k = max(max(board))\n",
        "    answer = 0\n",
        "    for i in range(len(board)):\n",
        "        temp = max(board[i])\n",
        "        answer = max(answer, temp)\n",
        "    return answer**2"
      ]
    }
  ]
}
