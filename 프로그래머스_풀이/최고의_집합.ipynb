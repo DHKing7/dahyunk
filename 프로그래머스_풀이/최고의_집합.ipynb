{
  "nbformat": 4,
  "nbformat_minor": 0,
  "metadata": {
    "colab": {
      "name": "최고의_집합.ipynb",
      "provenance": [],
      "collapsed_sections": [],
      "authorship_tag": "ABX9TyOUoQ1tDriFfgIvyICztqu9",
      "include_colab_link": true
    },
    "kernelspec": {
      "name": "python3",
      "display_name": "Python 3"
    },
    "language_info": {
      "name": "python"
    }
  },
  "cells": [
    {
      "cell_type": "markdown",
      "metadata": {
        "id": "view-in-github",
        "colab_type": "text"
      },
      "source": [
        "<a href=\"https://colab.research.google.com/github/DHKing7/dahyunk/blob/main/%EC%B5%9C%EA%B3%A0%EC%9D%98_%EC%A7%91%ED%95%A9.ipynb\" target=\"_parent\"><img src=\"https://colab.research.google.com/assets/colab-badge.svg\" alt=\"Open In Colab\"/></a>"
      ]
    },
    {
      "cell_type": "code",
      "execution_count": null,
      "metadata": {
        "id": "4fDPc9f-A9xu"
      },
      "outputs": [],
      "source": [
        "def solution(n, s):\n",
        "    if s < n:\n",
        "        return [-1]\n",
        "    remain = s%n\n",
        "    share = s//n\n",
        "    answer = [s//n] * n\n",
        "    for i in range(remain):\n",
        "        answer[-1-i] +=1\n",
        "    return answer"
      ]
    }
  ]
}
