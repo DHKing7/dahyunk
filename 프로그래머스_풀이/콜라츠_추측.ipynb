{
  "nbformat": 4,
  "nbformat_minor": 0,
  "metadata": {
    "colab": {
      "name": "콜라츠_추측.ipynb",
      "provenance": [],
      "collapsed_sections": [],
      "authorship_tag": "ABX9TyMZRU+KPFBq+icaAdZeEmJg"
    },
    "kernelspec": {
      "name": "python3",
      "display_name": "Python 3"
    },
    "language_info": {
      "name": "python"
    }
  },
  "cells": [
    {
      "cell_type": "code",
      "execution_count": null,
      "metadata": {
        "id": "XvwqD3J4YeXs"
      },
      "outputs": [],
      "source": [
        "def solution(num):\n",
        "    nums = num\n",
        "    answer = 0\n",
        "    while answer != 501:\n",
        "        if nums == 1:\n",
        "            break\n",
        "        if nums % 2 == 0:\n",
        "            nums = int(nums/2)\n",
        "        else:\n",
        "            nums = nums * 3 + 1\n",
        "        answer += 1\n",
        "    if answer <= 500:\n",
        "        return answer\n",
        "    else:\n",
        "        return -1"
      ]
    }
  ]
}
