{
  "nbformat": 4,
  "nbformat_minor": 0,
  "metadata": {
    "colab": {
      "name": "H_Index.ipynb",
      "provenance": [],
      "collapsed_sections": [],
      "authorship_tag": "ABX9TyMr2Qu9WgL+W2ffEazLyNJw"
    },
    "kernelspec": {
      "name": "python3",
      "display_name": "Python 3"
    },
    "language_info": {
      "name": "python"
    }
  },
  "cells": [
    {
      "cell_type": "code",
      "execution_count": null,
      "metadata": {
        "id": "zwB9E1qnkqvn"
      },
      "outputs": [],
      "source": [
        "def solution(citations):\n",
        "    citations = sorted(citations, reverse = True)\n",
        "    answer = 0\n",
        "    for i in range(citations[0]+1,0,-1):\n",
        "        arr = list(map(lambda x : x >= i, citations))\n",
        "        if arr.count(True) >= i and arr.count(False) <= i:\n",
        "            answer = i\n",
        "            break\n",
        "    return answer"
      ]
    }
  ]
}
