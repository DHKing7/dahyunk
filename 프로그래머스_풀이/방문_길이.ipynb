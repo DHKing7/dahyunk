{
  "nbformat": 4,
  "nbformat_minor": 0,
  "metadata": {
    "colab": {
      "name": "방문_길이.ipynb",
      "provenance": [],
      "collapsed_sections": [],
      "authorship_tag": "ABX9TyPWLTGjFVTwNkz2Q0vlVDTO",
      "include_colab_link": true
    },
    "kernelspec": {
      "name": "python3",
      "display_name": "Python 3"
    },
    "language_info": {
      "name": "python"
    }
  },
  "cells": [
    {
      "cell_type": "markdown",
      "metadata": {
        "id": "view-in-github",
        "colab_type": "text"
      },
      "source": [
        "<a href=\"https://colab.research.google.com/github/DHKing7/dahyunk/blob/main/%EB%B0%A9%EB%AC%B8_%EA%B8%B8%EC%9D%B4.ipynb\" target=\"_parent\"><img src=\"https://colab.research.google.com/assets/colab-badge.svg\" alt=\"Open In Colab\"/></a>"
      ]
    },
    {
      "cell_type": "code",
      "execution_count": null,
      "metadata": {
        "id": "iuY-jr2fohFx"
      },
      "outputs": [],
      "source": [
        "def solution(dirs):\n",
        "    answer = []\n",
        "    x = 0\n",
        "    y = 0\n",
        "    vector = []\n",
        "    record = [[0,0]]\n",
        "    for i in dirs:\n",
        "        if i == \"U\" and y < 5:\n",
        "            y += 1\n",
        "        elif i == \"D\" and y > -5:\n",
        "            y -= 1\n",
        "        elif i == \"L\" and x > -5:\n",
        "            x -= 1\n",
        "        elif i == \"R\" and x < 5:\n",
        "            x += 1\n",
        "        else:\n",
        "            continue\n",
        "        record.append([x,y])\n",
        "    \n",
        "    for i in range(len(record)-1):\n",
        "        vector.append('{0}->{1}'.format(record[i], record[i+1]))\n",
        "        vector.append('{1}->{0}'.format(record[i], record[i+1]))\n",
        "    answer = set(vector)\n",
        "    return int(len(answer)/2)"
      ]
    }
  ]
}
