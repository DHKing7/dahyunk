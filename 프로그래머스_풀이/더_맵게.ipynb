{
  "nbformat": 4,
  "nbformat_minor": 0,
  "metadata": {
    "colab": {
      "name": "더_맵게.ipynb",
      "provenance": [],
      "authorship_tag": "ABX9TyNeGmc5kiQE9fQZPJtHkl9q",
      "include_colab_link": true
    },
    "kernelspec": {
      "name": "python3",
      "display_name": "Python 3"
    },
    "language_info": {
      "name": "python"
    }
  },
  "cells": [
    {
      "cell_type": "markdown",
      "metadata": {
        "id": "view-in-github",
        "colab_type": "text"
      },
      "source": [
        "<a href=\"https://colab.research.google.com/github/DHKing7/dahyunk/blob/main/%EB%8D%94_%EB%A7%B5%EA%B2%8C.ipynb\" target=\"_parent\"><img src=\"https://colab.research.google.com/assets/colab-badge.svg\" alt=\"Open In Colab\"/></a>"
      ]
    },
    {
      "cell_type": "code",
      "execution_count": null,
      "metadata": {
        "id": "8u7Ri1PKEHmD"
      },
      "outputs": [],
      "source": [
        "import heapq\n",
        "\n",
        "def solution(scoville, K):\n",
        "    heap = []\n",
        "    answer = 0\n",
        "    for i in scoville:\n",
        "        heapq.heappush(heap, i)\n",
        "    \n",
        "    while heap[0] <= K and len(heap) > 1:\n",
        "        mix_1 = heapq.heappop(heap)\n",
        "        mix_2 = heapq.heappop(heap)\n",
        "        mix = mix_1 + mix_2 * 2\n",
        "        heapq.heappush(heap, mix)\n",
        "        answer += 1\n",
        "    if heap[0] < K:\n",
        "        return -1\n",
        "    \n",
        "    return answer"
      ]
    }
  ]
}
