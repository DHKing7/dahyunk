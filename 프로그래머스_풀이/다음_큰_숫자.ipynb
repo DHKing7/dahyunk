{
  "nbformat": 4,
  "nbformat_minor": 0,
  "metadata": {
    "colab": {
      "name": "다음_큰_숫자.ipynb",
      "provenance": [],
      "collapsed_sections": [],
      "authorship_tag": "ABX9TyODAmoj4liELejI2f1VRejO",
      "include_colab_link": true
    },
    "kernelspec": {
      "name": "python3",
      "display_name": "Python 3"
    },
    "language_info": {
      "name": "python"
    }
  },
  "cells": [
    {
      "cell_type": "markdown",
      "metadata": {
        "id": "view-in-github",
        "colab_type": "text"
      },
      "source": [
        "<a href=\"https://colab.research.google.com/github/DHKing7/dahyunk/blob/main/%EB%8B%A4%EC%9D%8C_%ED%81%B0_%EC%88%AB%EC%9E%90.ipynb\" target=\"_parent\"><img src=\"https://colab.research.google.com/assets/colab-badge.svg\" alt=\"Open In Colab\"/></a>"
      ]
    },
    {
      "cell_type": "code",
      "execution_count": null,
      "metadata": {
        "id": "HPbyTsdcpbm3"
      },
      "outputs": [],
      "source": [
        "def solution(n):\n",
        "    answer = bin(n)[2:]\n",
        "    num_0 = answer.count('0')\n",
        "    num_1 = answer.count('1')\n",
        "    str_ = ''\n",
        "    if num_0 == 0:\n",
        "        str_ = '10' + \"1\" *(num_1-1)\n",
        "    else:\n",
        "        while True:\n",
        "            n += 1\n",
        "            if bin(n)[2:].count('1') == num_1:\n",
        "                return n\n",
        "        \n",
        "            \n",
        "    return int(str_,2)"
      ]
    }
  ]
}
