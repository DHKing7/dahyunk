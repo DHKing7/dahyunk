{
  "nbformat": 4,
  "nbformat_minor": 0,
  "metadata": {
    "colab": {
      "name": "다리를_지나는_트럭.ipynb",
      "provenance": [],
      "collapsed_sections": [],
      "authorship_tag": "ABX9TyN+Rbqh51O8wc+JGg3mPEWw"
    },
    "kernelspec": {
      "name": "python3",
      "display_name": "Python 3"
    },
    "language_info": {
      "name": "python"
    }
  },
  "cells": [
    {
      "cell_type": "code",
      "execution_count": null,
      "metadata": {
        "id": "V-qCc9gwkUCx"
      },
      "outputs": [],
      "source": [
        "from collections import deque\n",
        "\n",
        "def solution(bridge_length, weight, truck_weights):\n",
        "    answer = 0\n",
        "    truck = deque(truck_weights)\n",
        "    deq = deque()\n",
        "    deq.extend([0]*bridge_length)\n",
        "    a = 0\n",
        "\n",
        "    while truck:\n",
        "    \n",
        "        if (weight+a) >= truck[0]:\n",
        "            b = deq.popleft()\n",
        "            a += b\n",
        "            c = truck.popleft()\n",
        "            a -= c\n",
        "            deq.append(c)\n",
        "            answer += 1\n",
        "        else:\n",
        "            while (weight+a) < truck[0]:\n",
        "                d = deq.popleft()\n",
        "                a += d\n",
        "                deq.append(0)\n",
        "                answer += 1\n",
        "            deq.pop()\n",
        "            deq.appendleft(0)\n",
        "            answer -=1\n",
        "    return answer + len(deq)"
      ]
    }
  ]
}
