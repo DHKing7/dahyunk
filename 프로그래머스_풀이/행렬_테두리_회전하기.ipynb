{
  "nbformat": 4,
  "nbformat_minor": 0,
  "metadata": {
    "colab": {
      "name": "행렬_테두리_회전하기.ipynb",
      "provenance": [],
      "authorship_tag": "ABX9TyNwlZbCGGrFFmfzmMDLpKaB",
      "include_colab_link": true
    },
    "kernelspec": {
      "name": "python3",
      "display_name": "Python 3"
    },
    "language_info": {
      "name": "python"
    }
  },
  "cells": [
    {
      "cell_type": "markdown",
      "metadata": {
        "id": "view-in-github",
        "colab_type": "text"
      },
      "source": [
        "<a href=\"https://colab.research.google.com/github/DHKing7/dahyunk/blob/main/%ED%96%89%EB%A0%AC_%ED%85%8C%EB%91%90%EB%A6%AC_%ED%9A%8C%EC%A0%84%ED%95%98%EA%B8%B0.ipynb\" target=\"_parent\"><img src=\"https://colab.research.google.com/assets/colab-badge.svg\" alt=\"Open In Colab\"/></a>"
      ]
    },
    {
      "cell_type": "code",
      "execution_count": null,
      "metadata": {
        "id": "9YnJFl9T31la"
      },
      "outputs": [],
      "source": [
        "def solution(rows, columns, queries):\n",
        "    answer = []\n",
        "    list_ = []\n",
        "    stack2 = []\n",
        "#     행렬 만들기\n",
        "    for i in range(rows):\n",
        "        stack = []\n",
        "        for j in range(columns):\n",
        "            stack.append(i*columns + j+1)\n",
        "        list_.append(stack)\n",
        "    for i in queries:\n",
        "        row_min, row_max = i[0]-1, i[2]-1\n",
        "        col_min, col_max = i[1]-1, i[3]-1\n",
        "        num = (i[2]-i[0]+1) * (i[3]-i[1]+1) - (i[2]-i[0]-1) * (i[3]-i[1]-1) \n",
        "        tmp1 = list_[row_min][col_min] # 그 자리에 들어가야하는 값\n",
        "        tmp2 = 0 # 그 자리에 있는값\n",
        "        for k in range(col_min,col_max):\n",
        "            tmp2 = list_[row_min][k+1]\n",
        "            list_[row_min][k+1] = tmp1\n",
        "            tmp1 = tmp2\n",
        "            stack2.append(tmp1)\n",
        "        for k in range(row_min,row_max):\n",
        "            tmp2 = list_[k+1][col_max]\n",
        "            list_[k+1][col_max] = tmp1\n",
        "            tmp1 = tmp2\n",
        "            stack2.append(tmp1)\n",
        "        for k in range(col_max,col_min,-1):\n",
        "            tmp2 = list_[row_max][k-1]\n",
        "            list_[row_max][k-1] = tmp1\n",
        "            tmp1 = tmp2\n",
        "            stack2.append(tmp1)\n",
        "        for k in range(row_max, row_min,-1):\n",
        "            tmp2 = list_[k-1][col_min]\n",
        "            list_[k-1][col_min] = tmp1\n",
        "            tmp1 = tmp2\n",
        "            stack2.append(tmp1)\n",
        "        answer.append(min(stack2))\n",
        "        stack2 = []\n",
        "    return answer"
      ]
    }
  ]
}
