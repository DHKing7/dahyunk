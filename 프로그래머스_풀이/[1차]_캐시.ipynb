{
  "nbformat": 4,
  "nbformat_minor": 0,
  "metadata": {
    "colab": {
      "name": "[1차]_캐시.ipynb",
      "provenance": [],
      "collapsed_sections": [],
      "authorship_tag": "ABX9TyMnk6dYxr+omRjoP/cFUpfx",
      "include_colab_link": true
    },
    "kernelspec": {
      "name": "python3",
      "display_name": "Python 3"
    },
    "language_info": {
      "name": "python"
    }
  },
  "cells": [
    {
      "cell_type": "markdown",
      "metadata": {
        "id": "view-in-github",
        "colab_type": "text"
      },
      "source": [
        "<a href=\"https://colab.research.google.com/github/DHKing7/dahyunk/blob/main/%5B1%EC%B0%A8%5D_%EC%BA%90%EC%8B%9C.ipynb\" target=\"_parent\"><img src=\"https://colab.research.google.com/assets/colab-badge.svg\" alt=\"Open In Colab\"/></a>"
      ]
    },
    {
      "cell_type": "code",
      "execution_count": null,
      "metadata": {
        "id": "4kSkWiXUnf04"
      },
      "outputs": [],
      "source": [
        "def solution(cacheSize, cities):\n",
        "    answer = 0\n",
        "    stack = []\n",
        "    for i in cities:\n",
        "        stack.append(i.upper())\n",
        "    cache_queue = []\n",
        "    if cacheSize == 0 or len(cities) == 0:\n",
        "        return len(cities) * 5\n",
        "    while len(stack) > 0:\n",
        "        if len(cache_queue) < cacheSize:\n",
        "            if len(cache_queue) == 0:\n",
        "                cache_queue.append(stack.pop(0))\n",
        "                answer += 5\n",
        "            else:\n",
        "                if stack[0] not in cache_queue:\n",
        "                    cache_queue.append(stack.pop(0))\n",
        "                    answer += 5\n",
        "                else:\n",
        "                    cache_queue.pop(cache_queue.index(stack[0]))\n",
        "                    cache_queue.append(stack.pop(0))\n",
        "                    answer += 1\n",
        "                \n",
        "        elif len(cache_queue) == cacheSize:    \n",
        "            if stack[0] not in cache_queue:\n",
        "                cache_queue.pop(0)\n",
        "                cache_queue.append(stack.pop(0))\n",
        "                answer += 5\n",
        "            else:\n",
        "                cache_queue.pop(cache_queue.index(stack[0]))\n",
        "                cache_queue.append(stack.pop(0))\n",
        "                answer += 1\n",
        "    return answer"
      ]
    }
  ]
}
