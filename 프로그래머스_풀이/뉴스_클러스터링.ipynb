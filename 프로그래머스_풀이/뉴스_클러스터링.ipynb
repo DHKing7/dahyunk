{
  "nbformat": 4,
  "nbformat_minor": 0,
  "metadata": {
    "colab": {
      "name": "뉴스_클러스터링.ipynb",
      "provenance": [],
      "collapsed_sections": [],
      "authorship_tag": "ABX9TyMLm51uNaaHQyAfhHbhNfhE",
      "include_colab_link": true
    },
    "kernelspec": {
      "name": "python3",
      "display_name": "Python 3"
    },
    "language_info": {
      "name": "python"
    }
  },
  "cells": [
    {
      "cell_type": "markdown",
      "metadata": {
        "id": "view-in-github",
        "colab_type": "text"
      },
      "source": [
        "<a href=\"https://colab.research.google.com/github/DHKing7/dahyunk/blob/main/%EB%89%B4%EC%8A%A4_%ED%81%B4%EB%9F%AC%EC%8A%A4%ED%84%B0%EB%A7%81.ipynb\" target=\"_parent\"><img src=\"https://colab.research.google.com/assets/colab-badge.svg\" alt=\"Open In Colab\"/></a>"
      ]
    },
    {
      "cell_type": "code",
      "execution_count": null,
      "metadata": {
        "id": "BuaAVuVsFa-Z"
      },
      "outputs": [],
      "source": [
        "def solution(str1, str2):\n",
        "    str1 = str1.upper()\n",
        "    str2 = str2.upper()\n",
        "    token = [\"A\", \"B\", \"C\", \"D\", \"E\", \"F\", \"G\", \"H\", \"I\", \"J\", \"K\", \"L\", \"M\", \"N\", \"O\", \"P\", \"Q\", \"R\", \"S\", \"T\", \"U\", \"V\", \"W\", \"X\", \"Y\", \"Z\"]\n",
        "    stack1 = []\n",
        "    stack2 = []\n",
        "    i = 0\n",
        "    k = 0\n",
        "    num = 0\n",
        "    while len(str1)-1>i:\n",
        "        if str1[i] in token and str1[i+1] in token:\n",
        "            stack1.append(str1[i:i+2])\n",
        "        i += 1\n",
        "    while len(str2)-1>k:\n",
        "        if str2[k] in token and str2[k+1] in token:\n",
        "            stack2.append(str2[k:k+2])\n",
        "        k += 1\n",
        "    if len(stack1) == 0 and len(stack2) == 0:\n",
        "        return 65536\n",
        "    length = len(stack1) + len(stack2)\n",
        "    for i in stack1:\n",
        "        if i in stack2:\n",
        "            num += 1\n",
        "            stack2.pop(stack2.index(i))\n",
        "\n",
        "    return int((65536*num)/(length-num))"
      ]
    }
  ]
}
