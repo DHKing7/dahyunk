{
  "nbformat": 4,
  "nbformat_minor": 0,
  "metadata": {
    "colab": {
      "name": "소수_찾기_Level2.ipynb",
      "provenance": [],
      "collapsed_sections": [],
      "authorship_tag": "ABX9TyMapu/+NezRVI9SfGyvpyZm",
      "include_colab_link": true
    },
    "kernelspec": {
      "name": "python3",
      "display_name": "Python 3"
    },
    "language_info": {
      "name": "python"
    }
  },
  "cells": [
    {
      "cell_type": "markdown",
      "metadata": {
        "id": "view-in-github",
        "colab_type": "text"
      },
      "source": [
        "<a href=\"https://colab.research.google.com/github/DHKing7/dahyunk/blob/main/%EC%86%8C%EC%88%98_%EC%B0%BE%EA%B8%B0_Level2.ipynb\" target=\"_parent\"><img src=\"https://colab.research.google.com/assets/colab-badge.svg\" alt=\"Open In Colab\"/></a>"
      ]
    },
    {
      "cell_type": "code",
      "execution_count": null,
      "metadata": {
        "id": "PMF9LiMZgUJ1"
      },
      "outputs": [],
      "source": [
        "from itertools import permutations\n",
        "import math\n",
        "def solution(numbers):\n",
        "    length = len(numbers)\n",
        "    num = 1\n",
        "    i = 0\n",
        "    stack = []\n",
        "    answer = []\n",
        "    ttt = 0\n",
        "    while i < length:\n",
        "        stack.append(int(numbers[i:i+1]))\n",
        "        i+=1\n",
        "    for i in range(1,length+1):\n",
        "        answer += list(permutations(stack,i))\n",
        "    stack2 = []\n",
        "    for i in answer:\n",
        "        str_ = \"\"\n",
        "        for k in i:\n",
        "            str_ += str(k)\n",
        "        stack2.append(int(str_))\n",
        "    u = set(stack2)\n",
        "    stack2 = sorted(list(u))\n",
        "    for i in stack2:\n",
        "        if i == 0 or i == 1:\n",
        "            continue\n",
        "        elif i == 2 or i == 3 or i == 5 or i == 7:\n",
        "            ttt += 1\n",
        "        elif i%2 == 0:\n",
        "            continue\n",
        "        elif i%2 == 1:\n",
        "            for k in range(3, int(math.sqrt(i))+1,2):\n",
        "                num = 0\n",
        "                if i%k==0:\n",
        "                    num += 1\n",
        "                    break\n",
        "            if num == 0:\n",
        "                ttt += 1\n",
        "    return ttt"
      ]
    }
  ]
}