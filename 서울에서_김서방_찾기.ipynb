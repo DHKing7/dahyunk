{
  "nbformat": 4,
  "nbformat_minor": 0,
  "metadata": {
    "colab": {
      "name": "서울에서_김서방_찾기.ipynb",
      "provenance": [],
      "collapsed_sections": [],
      "authorship_tag": "ABX9TyPHZ5aBo+qV6e3y5NCBO8ZK"
    },
    "kernelspec": {
      "name": "python3",
      "display_name": "Python 3"
    },
    "language_info": {
      "name": "python"
    }
  },
  "cells": [
    {
      "cell_type": "code",
      "execution_count": null,
      "metadata": {
        "id": "Kl6T6nMXSQXt"
      },
      "outputs": [],
      "source": [
        "def solution(seoul):\n",
        "    return \"김서방은 \"+str(seoul.index('Kim'))+\"에 있다\""
      ]
    }
  ]
}