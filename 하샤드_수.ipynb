{
  "nbformat": 4,
  "nbformat_minor": 0,
  "metadata": {
    "colab": {
      "name": "하샤드_수.ipynb",
      "provenance": [],
      "collapsed_sections": [],
      "authorship_tag": "ABX9TyO0rePiEUALy5uwsJw52FLa"
    },
    "kernelspec": {
      "name": "python3",
      "display_name": "Python 3"
    },
    "language_info": {
      "name": "python"
    }
  },
  "cells": [
    {
      "cell_type": "code",
      "execution_count": null,
      "metadata": {
        "id": "znQoKhZBY6s0"
      },
      "outputs": [],
      "source": [
        "def solution(x):\n",
        "    answer = list(str(x))\n",
        "    k = list(map(int, answer))\n",
        "    if x % sum(k) == 0:\n",
        "        return True\n",
        "    else:\n",
        "        return  False"
      ]
    }
  ]
}