{
  "nbformat": 4,
  "nbformat_minor": 0,
  "metadata": {
    "colab": {
      "name": "같은_숫자는_싫어.ipynb",
      "provenance": [],
      "collapsed_sections": [],
      "authorship_tag": "ABX9TyNrxPFT/zjBVVFXXLVr/SpS"
    },
    "kernelspec": {
      "name": "python3",
      "display_name": "Python 3"
    },
    "language_info": {
      "name": "python"
    }
  },
  "cells": [
    {
      "cell_type": "code",
      "execution_count": null,
      "metadata": {
        "id": "-vP6X32wQSt0"
      },
      "outputs": [],
      "source": [
        "def solution(arr):\n",
        "    answer = []\n",
        "    for i in arr:\n",
        "        if len(answer) == 0:\n",
        "            answer.append(i)\n",
        "        elif answer[-1] != i:\n",
        "            answer.append(i)\n",
        "    return answer"
      ]
    }
  ]
}