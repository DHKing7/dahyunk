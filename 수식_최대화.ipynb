{
  "nbformat": 4,
  "nbformat_minor": 0,
  "metadata": {
    "colab": {
      "name": "수식_최대화.ipynb",
      "provenance": [],
      "authorship_tag": "ABX9TyO11NvA66sPeoRh4kvmcVd/",
      "include_colab_link": true
    },
    "kernelspec": {
      "name": "python3",
      "display_name": "Python 3"
    },
    "language_info": {
      "name": "python"
    }
  },
  "cells": [
    {
      "cell_type": "markdown",
      "metadata": {
        "id": "view-in-github",
        "colab_type": "text"
      },
      "source": [
        "<a href=\"https://colab.research.google.com/github/DHKing7/dahyunk/blob/main/%EC%88%98%EC%8B%9D_%EC%B5%9C%EB%8C%80%ED%99%94.ipynb\" target=\"_parent\"><img src=\"https://colab.research.google.com/assets/colab-badge.svg\" alt=\"Open In Colab\"/></a>"
      ]
    },
    {
      "cell_type": "code",
      "execution_count": null,
      "metadata": {
        "id": "DjuCjTtnBeLF"
      },
      "outputs": [],
      "source": [
        "def ex(num1,num2,num3,expression):\n",
        "    num = []\n",
        "    op = []\n",
        "    dic = ['-', '*', '+']\n",
        "    str_ = ''\n",
        "    \n",
        "    for i in expression:\n",
        "        if i in dic:\n",
        "            num.append(int(str_))\n",
        "            op.append(i)\n",
        "            str_ = ''\n",
        "        else:\n",
        "            str_ += i\n",
        "    num.append(int(str_))\n",
        "#     + > - > *\n",
        "    dic2 = {'+': num1, '-': num2, '*': num3}\n",
        "    dic3 = {'+': '+', '-': '-', '*':'*'}\n",
        "    stack = []\n",
        "    while len(num)>0:\n",
        "        if len(stack) == 0:\n",
        "            stack.append(num.pop(0))\n",
        "        else:\n",
        "            if stack[-1] not in dic:\n",
        "                stack.append(op.pop(0))\n",
        "                if dic2[stack[-1]] == 2:\n",
        "                    if dic3[stack[-1]] == '*':\n",
        "                        stack.pop()\n",
        "                        stack.append(stack.pop() * num.pop(0))\n",
        "                    elif dic3[stack[-1]] == '-':\n",
        "                        stack.pop()\n",
        "                        stack.append(stack.pop() - num.pop(0))\n",
        "                    else:\n",
        "                        stack.pop()\n",
        "                        stack.append(stack.pop() + num.pop(0))\n",
        "                    \n",
        "            else:\n",
        "                stack.append(num.pop(0))\n",
        "    stack2 = []\n",
        "    while len(stack) > 0:\n",
        "        if len(stack2) == 0:\n",
        "            stack2.append(stack.pop(0))\n",
        "        else:\n",
        "            if stack2[-1] not in dic:\n",
        "                stack2.append(stack.pop(0))\n",
        "                if dic2[stack2[-1]] == 1:\n",
        "                    if dic3[stack2[-1]] == '*':\n",
        "                        stack2.pop()\n",
        "                        stack2.append(stack2.pop() * stack.pop(0))\n",
        "                    elif dic3[stack2[-1]] == '-':\n",
        "                        stack2.pop()\n",
        "                        stack2.append(stack2.pop() - stack.pop(0))\n",
        "                    else:\n",
        "                        stack2.pop()\n",
        "                        stack2.append(stack2.pop() + stack.pop(0))\n",
        "            else:\n",
        "                stack2.append(stack.pop(0))\n",
        "    stack3 = []\n",
        "    while len(stack2) > 0:\n",
        "        if len(stack3) == 0:\n",
        "            stack3.append(stack2.pop(0))\n",
        "        else:\n",
        "            if stack3[-1] not in dic:\n",
        "                stack3.append(stack2.pop(0))\n",
        "                if dic3[stack3[-1]] == '*':\n",
        "                    stack3.pop()\n",
        "                    stack3.append(stack3.pop() * stack2.pop(0))\n",
        "                elif dic3[stack3[-1]] == '-':\n",
        "                    stack3.pop()\n",
        "                    stack3.append(stack3.pop() - stack2.pop(0))\n",
        "                else:\n",
        "                    stack3.pop()\n",
        "                    stack3.append(stack3.pop() + stack2.pop(0))\n",
        "            else:\n",
        "                stack3.append(stack2.pop(0)) \n",
        "    return abs(stack3[0])\n",
        "        \n",
        "    \n",
        "    \n",
        "def solution(expression):\n",
        "    answer = []\n",
        "    answer.append(ex(0,1,2,expression))\n",
        "    answer.append(ex(1,0,2,expression))\n",
        "    answer.append(ex(0,2,1,expression))\n",
        "    answer.append(ex(2,0,1,expression))\n",
        "    answer.append(ex(1,2,0,expression))\n",
        "    answer.append(ex(2,1,0,expression))\n",
        "    return max(answer)"
      ]
    }
  ]
}