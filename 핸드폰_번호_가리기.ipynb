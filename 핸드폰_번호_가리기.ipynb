{
  "nbformat": 4,
  "nbformat_minor": 0,
  "metadata": {
    "colab": {
      "name": "핸드폰_번호_가리기.ipynb",
      "provenance": [],
      "collapsed_sections": [],
      "authorship_tag": "ABX9TyN725R+ScpRx6MVGIUWZqzI"
    },
    "kernelspec": {
      "name": "python3",
      "display_name": "Python 3"
    },
    "language_info": {
      "name": "python"
    }
  },
  "cells": [
    {
      "cell_type": "code",
      "execution_count": null,
      "metadata": {
        "id": "IM0fKfoQZGx5"
      },
      "outputs": [],
      "source": [
        "def solution(phone_number):\n",
        "    return '*'*(len(phone_number)-4)+phone_number[-4:-1]+ phone_number[-1]"
      ]
    }
  ]
}