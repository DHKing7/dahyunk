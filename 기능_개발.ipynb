{
  "nbformat": 4,
  "nbformat_minor": 0,
  "metadata": {
    "colab": {
      "name": "기능_개발.ipynb",
      "provenance": [],
      "authorship_tag": "ABX9TyPvDpDjqKOQyBMsssB0NKPg",
      "include_colab_link": true
    },
    "kernelspec": {
      "name": "python3",
      "display_name": "Python 3"
    },
    "language_info": {
      "name": "python"
    }
  },
  "cells": [
    {
      "cell_type": "markdown",
      "metadata": {
        "id": "view-in-github",
        "colab_type": "text"
      },
      "source": [
        "<a href=\"https://colab.research.google.com/github/DHKing7/dahyunk/blob/main/%EA%B8%B0%EB%8A%A5_%EA%B0%9C%EB%B0%9C.ipynb\" target=\"_parent\"><img src=\"https://colab.research.google.com/assets/colab-badge.svg\" alt=\"Open In Colab\"/></a>"
      ]
    },
    {
      "cell_type": "code",
      "execution_count": null,
      "metadata": {
        "id": "XB59sqrl3TnT"
      },
      "outputs": [],
      "source": [
        "import math\n",
        "\n",
        "def solution(progresses, speeds):\n",
        "#     배포는 하루에 1번\n",
        "    answer = 1\n",
        "    stack = [math.ceil((100-i)/j) for i, j in zip(progresses, speeds)]\n",
        "    list_ = []\n",
        "    \n",
        "    index = 0\n",
        "    index2 = 1\n",
        "    while index+index2 < len(stack): #5\n",
        "        if stack[index] >= stack[index+index2]:\n",
        "            answer += 1\n",
        "            index2 += 1\n",
        "        else:\n",
        "            list_.append(answer)\n",
        "            answer = 1\n",
        "            index = index + index2\n",
        "            index2 = 1\n",
        "    list_.append(answer)\n",
        "    return list_"
      ]
    }
  ]
}