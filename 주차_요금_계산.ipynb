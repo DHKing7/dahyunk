{
  "nbformat": 4,
  "nbformat_minor": 0,
  "metadata": {
    "colab": {
      "name": "주차_요금_계산.ipynb",
      "provenance": [],
      "collapsed_sections": [],
      "authorship_tag": "ABX9TyOcL3veb9ZfuIL1mb1vsbE6",
      "include_colab_link": true
    },
    "kernelspec": {
      "name": "python3",
      "display_name": "Python 3"
    },
    "language_info": {
      "name": "python"
    }
  },
  "cells": [
    {
      "cell_type": "markdown",
      "metadata": {
        "id": "view-in-github",
        "colab_type": "text"
      },
      "source": [
        "<a href=\"https://colab.research.google.com/github/DHKing7/dahyunk/blob/main/%EC%A3%BC%EC%B0%A8_%EC%9A%94%EA%B8%88_%EA%B3%84%EC%82%B0.ipynb\" target=\"_parent\"><img src=\"https://colab.research.google.com/assets/colab-badge.svg\" alt=\"Open In Colab\"/></a>"
      ]
    },
    {
      "cell_type": "code",
      "execution_count": null,
      "metadata": {
        "id": "sNvjCgzdqKu3"
      },
      "outputs": [],
      "source": [
        "import re\n",
        "import math\n",
        "def solution(fees, records):\n",
        "    answer = []\n",
        "    for i in records:\n",
        "        k = re.split('[: ]',i)\n",
        "        answer.append(k)\n",
        "    stack = sorted(answer, key = lambda x : x[2])\n",
        "    k = []\n",
        "    num = 0\n",
        "    stack2 = []\n",
        "    str_ = ''\n",
        "    stack3 = []\n",
        "    while len(stack) > 0:\n",
        "        if len(k) == 0:\n",
        "            k.append(stack.pop(0))\n",
        "        elif k[0][2] == stack[0][2]:\n",
        "            str_ = stack[0][2]\n",
        "            num += (int(stack[0][0]) - int(k[0][0])) * 60 + (int(stack[0][1]) - int(k[0][1]))\n",
        "            k.pop()\n",
        "            stack.pop(0)\n",
        "            if len(stack)> 0 and str_ != stack[0][2]:\n",
        "                stack2.append(num)\n",
        "                num = 0\n",
        "        elif k[0][2] != stack[0][2]:\n",
        "            num += (23-int(k[0][0])) * 60 + 59- int(k[0][1])\n",
        "            stack2.append(num)\n",
        "            num = 0\n",
        "            k.pop()\n",
        "            k.append(stack.pop(0))\n",
        "    if num > 0:\n",
        "        stack2.append(num)\n",
        "    if len(k) == 1 and str_ == k[0][2]:\n",
        "        stack2[-1] += (23-int(k[0][0])) * 60 + 59- int(k[0][1])\n",
        "        num = 0\n",
        "        k.pop()\n",
        "    \n",
        "    elif len(k) == 1 and str_ != k[0][2]:\n",
        "        num += (23-int(k[0][0])) * 60 + 59- int(k[0][1])\n",
        "        stack2.append(num)\n",
        "        num = 0\n",
        "        k.pop()\n",
        "    for i in stack2:\n",
        "        if i <= fees[0]:\n",
        "            stack3.append(fees[1])\n",
        "        else:\n",
        "            stack3.append(fees[1] + fees[3]*math.ceil((i-fees[0])/fees[2]))\n",
        "\n",
        "        \n",
        "    return stack3"
      ]
    }
  ]
}