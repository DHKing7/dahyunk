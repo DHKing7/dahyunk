{
  "nbformat": 4,
  "nbformat_minor": 0,
  "metadata": {
    "colab": {
      "name": "최대공약수와_최소공배수.ipynb",
      "provenance": [],
      "collapsed_sections": [],
      "authorship_tag": "ABX9TyPw4A2mqIEOUKHiMeBosXN8",
      "include_colab_link": true
    },
    "kernelspec": {
      "name": "python3",
      "display_name": "Python 3"
    },
    "language_info": {
      "name": "python"
    }
  },
  "cells": [
    {
      "cell_type": "markdown",
      "metadata": {
        "id": "view-in-github",
        "colab_type": "text"
      },
      "source": [
        "<a href=\"https://colab.research.google.com/github/DHKing7/dahyunk/blob/main/%EC%B5%9C%EB%8C%80%EA%B3%B5%EC%95%BD%EC%88%98%EC%99%80_%EC%B5%9C%EC%86%8C%EA%B3%B5%EB%B0%B0%EC%88%98.ipynb\" target=\"_parent\"><img src=\"https://colab.research.google.com/assets/colab-badge.svg\" alt=\"Open In Colab\"/></a>"
      ]
    },
    {
      "cell_type": "code",
      "execution_count": null,
      "metadata": {
        "id": "qN9t91I9YK7W"
      },
      "outputs": [],
      "source": [
        "def solution(n, m):\n",
        "    answer = []\n",
        "    max_num = max(n,m)\n",
        "    min_num = min(n,m)\n",
        "    k = 1\n",
        "    if max_num % min_num  == 0:\n",
        "        answer.append(min_num)\n",
        "        answer.append(max_num)\n",
        "    else:\n",
        "        for i in range(1, min_num):\n",
        "            if max_num % i == 0 and min_num % i == 0:\n",
        "                k = i\n",
        "        answer.append(k)\n",
        "        answer.append(int(n*m/k)) \n",
        "    return answer"
      ]
    }
  ]
}