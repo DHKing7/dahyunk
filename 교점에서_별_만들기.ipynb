{
  "nbformat": 4,
  "nbformat_minor": 0,
  "metadata": {
    "colab": {
      "name": "교점에서_별_만들기.ipynb",
      "provenance": [],
      "collapsed_sections": [],
      "authorship_tag": "ABX9TyNy0WFQzTO5wI9mYol93IFM",
      "include_colab_link": true
    },
    "kernelspec": {
      "name": "python3",
      "display_name": "Python 3"
    },
    "language_info": {
      "name": "python"
    }
  },
  "cells": [
    {
      "cell_type": "markdown",
      "metadata": {
        "id": "view-in-github",
        "colab_type": "text"
      },
      "source": [
        "<a href=\"https://colab.research.google.com/github/DHKing7/dahyunk/blob/main/%EA%B5%90%EC%A0%90%EC%97%90%EC%84%9C_%EB%B3%84_%EB%A7%8C%EB%93%A4%EA%B8%B0.ipynb\" target=\"_parent\"><img src=\"https://colab.research.google.com/assets/colab-badge.svg\" alt=\"Open In Colab\"/></a>"
      ]
    },
    {
      "cell_type": "code",
      "execution_count": null,
      "metadata": {
        "id": "czZOvvl0nKL6"
      },
      "outputs": [],
      "source": [
        "from itertools import combinations\n",
        "def inter_point(line1, line2):\n",
        "    a,b,c = line1\n",
        "    d,e,f = line2\n",
        "    if b*d ==a*e:\n",
        "        return None\n",
        "    x = (c*e-b*f)/(b*d-a*e)\n",
        "    y = (a*f-c*d)/(b*d-a*e)\n",
        "    if x == int(x) and y == int(y):\n",
        "        return int(x), int(y)\n",
        "def solution(line):\n",
        "    answer = []\n",
        "    comb = list(combinations(line,2))\n",
        "    for i in comb:\n",
        "        point = inter_point(i[0],i[1])\n",
        "        if point != None:\n",
        "            answer.append(point)\n",
        "    x = [i[0] for i in answer]\n",
        "    y = [i[1] for i in answer]\n",
        "    x_max = max(x)\n",
        "    x_min = min(x)\n",
        "    y_max = max(y)\n",
        "    y_min = min(y)\n",
        "    list_= [\".\"*(x_max - x_min+1)]*((y_max - y_min)+1)\n",
        "    for i in answer:\n",
        "        x,y = i\n",
        "        list_[y_max-y] = list_[y_max-y][:x-x_min]+ \"*\" +list_[y_max-y][x-x_min+1:]\n",
        "    return list_"
      ]
    }
  ]
}