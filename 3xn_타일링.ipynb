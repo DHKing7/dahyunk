{
  "nbformat": 4,
  "nbformat_minor": 0,
  "metadata": {
    "colab": {
      "name": "3xn_타일링.ipynb",
      "provenance": [],
      "collapsed_sections": [],
      "authorship_tag": "ABX9TyO/gxzG6m2kZDSJ1etRDJbQ",
      "include_colab_link": true
    },
    "kernelspec": {
      "name": "python3",
      "display_name": "Python 3"
    },
    "language_info": {
      "name": "python"
    }
  },
  "cells": [
    {
      "cell_type": "markdown",
      "metadata": {
        "id": "view-in-github",
        "colab_type": "text"
      },
      "source": [
        "<a href=\"https://colab.research.google.com/github/DHKing7/dahyunk/blob/main/3xn_%ED%83%80%EC%9D%BC%EB%A7%81.ipynb\" target=\"_parent\"><img src=\"https://colab.research.google.com/assets/colab-badge.svg\" alt=\"Open In Colab\"/></a>"
      ]
    },
    {
      "cell_type": "code",
      "execution_count": null,
      "metadata": {
        "id": "9DOi3HAAn9Kz"
      },
      "outputs": [],
      "source": [
        "def solution(n):\n",
        "    answer = 0\n",
        "    num = n//2\n",
        "    list_ = [3, 11]\n",
        "    sum_ = [3]\n",
        "    i = 0\n",
        "    \n",
        "    while i < num-2:\n",
        "        sum_.append(sum_[-1]+list_[-1])\n",
        "        list_.append(3*list_[-1]+2*sum_[-2]+2)\n",
        "        i+=1\n",
        "    return list_[-1]%1000000007"
      ]
    }
  ]
}