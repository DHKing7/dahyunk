{
  "nbformat": 4,
  "nbformat_minor": 0,
  "metadata": {
    "colab": {
      "name": "모의고사.ipynb",
      "provenance": [],
      "collapsed_sections": [],
      "authorship_tag": "ABX9TyN1u/2BGNrWtydkpamyn2ce",
      "include_colab_link": true
    },
    "kernelspec": {
      "name": "python3",
      "display_name": "Python 3"
    },
    "language_info": {
      "name": "python"
    }
  },
  "cells": [
    {
      "cell_type": "markdown",
      "metadata": {
        "id": "view-in-github",
        "colab_type": "text"
      },
      "source": [
        "<a href=\"https://colab.research.google.com/github/DHKing7/dahyunk/blob/main/%EB%AA%A8%EC%9D%98%EA%B3%A0%EC%82%AC.ipynb\" target=\"_parent\"><img src=\"https://colab.research.google.com/assets/colab-badge.svg\" alt=\"Open In Colab\"/></a>"
      ]
    },
    {
      "cell_type": "code",
      "execution_count": null,
      "metadata": {
        "id": "tc7nGnQRJVpd"
      },
      "outputs": [],
      "source": [
        "def solution(answers):\n",
        "    answer = []\n",
        "    math1 = [1, 2, 3, 4, 5]\n",
        "    math1_num = 0\n",
        "    math2 = [2, 1, 2, 3, 2, 4, 2, 5]\n",
        "    math2_num = 0\n",
        "    math3 = [3, 3, 1, 1, 2, 2, 4, 4, 5, 5]\n",
        "    math3_num = 0\n",
        "    stack = 0\n",
        "    for i in answers:\n",
        "        if i == math1[stack%5]:\n",
        "            math1_num +=1\n",
        "        if i == math2[stack%8]:\n",
        "            math2_num +=1\n",
        "        if i == math3[stack%10]:\n",
        "            math3_num +=1\n",
        "        stack +=1\n",
        "    grade = max(math1_num,math2_num,math3_num)\n",
        "    if math1_num == grade:\n",
        "        answer.append(1)\n",
        "    if math2_num == grade:\n",
        "        answer.append(2)\n",
        "    if math3_num == grade:\n",
        "        answer.append(3)\n",
        "    return answer"
      ]
    }
  ]
}