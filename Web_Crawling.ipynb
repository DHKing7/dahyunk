{
  "nbformat": 4,
  "nbformat_minor": 0,
  "metadata": {
    "colab": {
      "name": "Web_Crawling.ipynb",
      "provenance": [],
      "collapsed_sections": [],
      "authorship_tag": "ABX9TyO/9KsOpw8M9gMNMVBEzII8",
      "include_colab_link": true
    },
    "kernelspec": {
      "name": "python3",
      "display_name": "Python 3"
    },
    "language_info": {
      "name": "python"
    }
  },
  "cells": [
    {
      "cell_type": "markdown",
      "metadata": {
        "id": "view-in-github",
        "colab_type": "text"
      },
      "source": [
        "<a href=\"https://colab.research.google.com/github/DHKing7/dahyunk/blob/main/Web_Crawling.ipynb\" target=\"_parent\"><img src=\"https://colab.research.google.com/assets/colab-badge.svg\" alt=\"Open In Colab\"/></a>"
      ]
    },
    {
      "cell_type": "code",
      "execution_count": null,
      "metadata": {
        "id": "lyL7gLFyqIGh"
      },
      "outputs": [],
      "source": [
        "# 모듈 불러오기\n",
        "import json\n",
        "import requests\n",
        "import time\n",
        "import datetime"
      ]
    },
    {
      "cell_type": "code",
      "source": [
        "# 다시보기 함수\n",
        "def Web_Crawling():\n",
        "  stack = []\n",
        "# 새로 들어오거나 나간게 있나 확인 \n",
        "  while True:\n",
        "    with open('id.txt') as f:\n",
        "      bj_nums = f.readlines()\n",
        "\n",
        "    bj_nums = [line.rstrip('\\n') for line in bj_nums]\n",
        "    for i in range(len(bj_nums)):\n",
        "      globals()['Var_{}'.format(i)] = bj_nums[i]\n",
        "      globals()['url_check{}'.format(i)] = [] #중복된 웹주소 체크 리스트\n",
        "      print(globals()['Var_{}'.format(i)])\n",
        "      \n",
        "### 20초간격으로 웹 주소를 가져옴 ##\n",
        "    for i in range(len(bj_nums)):\n",
        "      now = datetime.datetime.now()\n",
        "      print(now,'현재 번호 ', i)\n",
        "      a = globals()['Var_{}'.format(i)].split('/')\n",
        "      response = requests.get('https://stbbs.afreecatv.com/api/video/get_clip_video_info.php/?broad_no=%d' %int(a[4]))\n",
        "      globals()['stack_list{}'.format(i)] = response.json()\n",
        "      b = globals()['stack_list{}'.format(i)]['url'].split('/')\n",
        "\n",
        "      # txt에 이미 있는 내용인지 확인\n",
        "      if len(globals()['url_check{}'.format(i)]) == 0:\n",
        "        globals()['url_check{}'.format(i)].append(globals()['stack_list{}'.format(i)]['url'])\n",
        "        if globals()['url_check{}'.format(i)][-1] not in stack:\n",
        "          f = open('{0}_{1}_{2}.txt'.format(int(b[4]), globals()['stack_list{}'.format(i)]['bj_id'], int(a[4])), 'a')\n",
        "          f.write('{0}\\n'.format(globals()['stack_list{}'.format(i)]['url']))\n",
        "          f.close()\n",
        "        stack.append(globals()['url_check{}'.format(i)][-1])\n",
        "        print(globals()['url_check{}'.format(i)], 'if')  # 'if' 잘 동작되나 확인하기 위함\n",
        "\n",
        "        # 새로 id 체크 했을 때 같은값이 중복으로 stack에 들어와 중복제거 \n",
        "        stack = set(stack)\n",
        "        stack = list(stack)\n",
        "\n",
        "      elif globals()['url_check{}'.format(i)][-1] != globals()['stack_list{}'.format(i)]['url']:\n",
        "        globals()['url_check{}'.format(i)].pop()\n",
        "        globals()['url_check{}'.format(i)].append(globals()['stack_list{}'.format(i)]['url'])\n",
        "        f = open('{0}_{1}_{2}.txt'.format(globals()['stack_list{}'.format(i)]['file_start'].split(' ')[0].replace('-',''), globals()['stack_list{}'.format(i)]['bj_id'], int(a[4])), 'a')\n",
        "        f.write('{0}\\n'.format(globals()['stack_list{}'.format(i)]['url']))\n",
        "        f.close()\n",
        "        print(globals()['url_check{}'.format(i)], 'elif') # 'elif' 잘 동작되나 확인하기 위함\n",
        "      \n",
        "      # 키 눌리면 동적으로 할당되게 하려했지만 실패...\n",
        "      # elif keyboard.read_key() == 'a' or keyboard.reed_key() == 'A':\n",
        "      #   k+=1\n",
        "      #   globals()['Var_{}'.format(k)] = str(input('주소를 입력하시오 : '))\n",
        "      #   globals()['url_check{}'.format(k)] = []\n",
        "      #   print(globals('Var_{}'.format(i)))      \n",
        "    time.sleep(20)\n",
        "    continue"
      ],
      "metadata": {
        "id": "VBjOYTyHNvbu"
      },
      "execution_count": null,
      "outputs": []
    },
    {
      "cell_type": "code",
      "source": [
        "Web_Crawling()"
      ],
      "metadata": {
        "colab": {
          "base_uri": "https://localhost:8080/",
          "height": 725
        },
        "id": "Zff1uF38N9of",
        "outputId": "8eb6a883-0ff3-405a-9ad6-b676c8283686"
      },
      "execution_count": null,
      "outputs": [
        {
          "output_type": "stream",
          "name": "stdout",
          "text": [
            "https://play.afreecatv.com/rlatldgus/240380210\n",
            "https://play.afreecatv.com/joey1114/240377897\n",
            "https://play.afreecatv.com/sccha21/240383268\n",
            "https://play.afreecatv.com/pookygamja/240379835\n",
            "2022-04-30 16:22:09.111518 현재 번호  0\n",
            "['https://vod-archive-fmp4-kr-cdn-z01.afreecatv.com/fvod/20220430/210/240380210/FRAG_CDF38747_240380210_5_original.m3u8'] if\n",
            "2022-04-30 16:22:10.417232 현재 번호  1\n",
            "['https://vod-archive-fmp4-kr-cdn-z01.afreecatv.com/fvod/20220430/897/240377897/FRAG_094BFEAF_240377897_6_original.m3u8'] if\n",
            "2022-04-30 16:22:10.641586 현재 번호  2\n",
            "['https://vod-archive-fmp4-kr-cdn-z01.afreecatv.com/fvod/20220430/268/240383268/FRAG_ACCC02A1_240383268_2_original.m3u8'] if\n",
            "2022-04-30 16:22:10.870264 현재 번호  3\n",
            "['https://vod-archive-fmp4-kr-cdn-z01.afreecatv.com/fvod/20220430/835/240379835/FRAG_5E517766_240379835_7_original.m3u8'] if\n",
            "https://play.afreecatv.com/rlatldgus/240380210\n",
            "https://play.afreecatv.com/joey1114/240377897\n",
            "https://play.afreecatv.com/sccha21/240383268\n",
            "https://play.afreecatv.com/pookygamja/240379835\n",
            "2022-04-30 16:22:31.118334 현재 번호  0\n",
            "['https://vod-archive-fmp4-kr-cdn-z01.afreecatv.com/fvod/20220430/210/240380210/FRAG_CDF38747_240380210_5_original.m3u8'] if\n",
            "2022-04-30 16:22:31.348864 현재 번호  1\n",
            "['https://vod-archive-fmp4-kr-cdn-z01.afreecatv.com/fvod/20220430/897/240377897/FRAG_094BFEAF_240377897_6_original.m3u8'] if\n",
            "2022-04-30 16:22:31.568909 현재 번호  2\n",
            "['https://vod-archive-fmp4-kr-cdn-z01.afreecatv.com/fvod/20220430/268/240383268/FRAG_ACCC02A1_240383268_2_original.m3u8'] if\n",
            "2022-04-30 16:22:31.795084 현재 번호  3\n",
            "['https://vod-archive-fmp4-kr-cdn-z01.afreecatv.com/fvod/20220430/835/240379835/FRAG_5E517766_240379835_7_original.m3u8'] if\n"
          ]
        },
        {
          "output_type": "error",
          "ename": "KeyboardInterrupt",
          "evalue": "ignored",
          "traceback": [
            "\u001b[0;31m---------------------------------------------------------------------------\u001b[0m",
            "\u001b[0;31mKeyboardInterrupt\u001b[0m                         Traceback (most recent call last)",
            "\u001b[0;32m<ipython-input-16-1a8a9c365445>\u001b[0m in \u001b[0;36m<module>\u001b[0;34m()\u001b[0m\n\u001b[0;32m----> 1\u001b[0;31m \u001b[0mAfreeca_Frag\u001b[0m\u001b[0;34m(\u001b[0m\u001b[0;34m)\u001b[0m\u001b[0;34m\u001b[0m\u001b[0;34m\u001b[0m\u001b[0m\n\u001b[0m",
            "\u001b[0;32m<ipython-input-15-abbdf7705278>\u001b[0m in \u001b[0;36mAfreeca_Frag\u001b[0;34m()\u001b[0m\n\u001b[1;32m     46\u001b[0m       \u001b[0;31m#   globals()['url_check{}'.format(k)] = []\u001b[0m\u001b[0;34m\u001b[0m\u001b[0;34m\u001b[0m\u001b[0;34m\u001b[0m\u001b[0m\n\u001b[1;32m     47\u001b[0m       \u001b[0;31m#   print(globals('Var_{}'.format(i)))\u001b[0m\u001b[0;34m\u001b[0m\u001b[0;34m\u001b[0m\u001b[0;34m\u001b[0m\u001b[0m\n\u001b[0;32m---> 48\u001b[0;31m     \u001b[0mtime\u001b[0m\u001b[0;34m.\u001b[0m\u001b[0msleep\u001b[0m\u001b[0;34m(\u001b[0m\u001b[0;36m20\u001b[0m\u001b[0;34m)\u001b[0m\u001b[0;34m\u001b[0m\u001b[0;34m\u001b[0m\u001b[0m\n\u001b[0m\u001b[1;32m     49\u001b[0m     \u001b[0;32mcontinue\u001b[0m\u001b[0;34m\u001b[0m\u001b[0;34m\u001b[0m\u001b[0m\n",
            "\u001b[0;31mKeyboardInterrupt\u001b[0m: "
          ]
        }
      ]
    }
  ]
}