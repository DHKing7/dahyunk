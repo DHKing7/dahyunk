{
  "nbformat": 4,
  "nbformat_minor": 0,
  "metadata": {
    "colab": {
      "name": "Web_Crawling.ipynb",
      "provenance": [],
      "collapsed_sections": [],
      "authorship_tag": "ABX9TyO/9KsOpw8M9gMNMVBEzII8",
      "include_colab_link": true
    },
    "kernelspec": {
      "name": "python3",
      "display_name": "Python 3"
    },
    "language_info": {
      "name": "python"
    }
  },
  "cells": [
    {
      "cell_type": "markdown",
      "metadata": {
        "id": "view-in-github",
        "colab_type": "text"
      },
      "source": [
        "<a href=\"https://colab.research.google.com/github/DHKing7/dahyunk/blob/main/Web_Crawling.ipynb\" target=\"_parent\"><img src=\"https://colab.research.google.com/assets/colab-badge.svg\" alt=\"Open In Colab\"/></a>"
      ]
    },
    {
      "cell_type": "code",
      "execution_count": null,
      "metadata": {
        "id": "lyL7gLFyqIGh"
      },
      "outputs": [],
      "source": [
        "# 모듈 불러오기\n",
        "import json\n",
        "import requests\n",
        "import time\n",
        "import datetime"
      ]
    },
    {
      "cell_type": "code",
      "source": [
        "# 다시보기 함수\n",
        "def Web_Crawling():\n",
        "  stack = []\n",
        "# 새로 들어오거나 나간게 있나 확인 \n",
        "  while True:\n",
        "    with open('id.txt') as f:\n",
        "      bj_nums = f.readlines()\n",
        "\n",
        "    bj_nums = [line.rstrip('\\n') for line in bj_nums]\n",
        "    for i in range(len(bj_nums)):\n",
        "      globals()['Var_{}'.format(i)] = bj_nums[i]\n",
        "      globals()['url_check{}'.format(i)] = [] #중복된 웹주소 체크 리스트\n",
        "      print(globals()['Var_{}'.format(i)])\n",
        "      \n",
        "### 20초간격으로 웹 주소를 가져옴 ##\n",
        "    for i in range(len(bj_nums)):\n",
        "      now = datetime.datetime.now()\n",
        "      print(now,'현재 번호 ', i)\n",
        "      a = globals()['Var_{}'.format(i)].split('/')\n",
        "      response = requests.get('https://stbbs.afreecatv.com/api/video/get_clip_video_info.php/?broad_no=%d' %int(a[4]))\n",
        "      globals()['stack_list{}'.format(i)] = response.json()\n",
        "      b = globals()['stack_list{}'.format(i)]['url'].split('/')\n",
        "\n",
        "      # txt에 이미 있는 내용인지 확인\n",
        "      if len(globals()['url_check{}'.format(i)]) == 0:\n",
        "        globals()['url_check{}'.format(i)].append(globals()['stack_list{}'.format(i)]['url'])\n",
        "        if globals()['url_check{}'.format(i)][-1] not in stack:\n",
        "          f = open('{0}_{1}_{2}.txt'.format(int(b[4]), globals()['stack_list{}'.format(i)]['bj_id'], int(a[4])), 'a')\n",
        "          f.write('{0}\\n'.format(globals()['stack_list{}'.format(i)]['url']))\n",
        "          f.close()\n",
        "        stack.append(globals()['url_check{}'.format(i)][-1])\n",
        "        print(globals()['url_check{}'.format(i)], 'if')  # 'if' 잘 동작되나 확인하기 위함\n",
        "\n",
        "        # 새로 id 체크 했을 때 같은값이 중복으로 stack에 들어와 중복제거 \n",
        "        stack = set(stack)\n",
        "        stack = list(stack)\n",
        "\n",
        "      elif globals()['url_check{}'.format(i)][-1] != globals()['stack_list{}'.format(i)]['url']:\n",
        "        globals()['url_check{}'.format(i)].pop()\n",
        "        globals()['url_check{}'.format(i)].append(globals()['stack_list{}'.format(i)]['url'])\n",
        "        f = open('{0}_{1}_{2}.txt'.format(globals()['stack_list{}'.format(i)]['file_start'].split(' ')[0].replace('-',''), globals()['stack_list{}'.format(i)]['bj_id'], int(a[4])), 'a')\n",
        "        f.write('{0}\\n'.format(globals()['stack_list{}'.format(i)]['url']))\n",
        "        f.close()\n",
        "        print(globals()['url_check{}'.format(i)], 'elif') # 'elif' 잘 동작되나 확인하기 위함\n",
        "      \n",
        "      # 키 눌리면 동적으로 할당되게 하려했지만 실패...\n",
        "      # elif keyboard.read_key() == 'a' or keyboard.reed_key() == 'A':\n",
        "      #   k+=1\n",
        "      #   globals()['Var_{}'.format(k)] = str(input('주소를 입력하시오 : '))\n",
        "      #   globals()['url_check{}'.format(k)] = []\n",
        "      #   print(globals('Var_{}'.format(i)))      \n",
        "    time.sleep(20)\n",
        "    continue"
      ],
      "metadata": {
        "id": "VBjOYTyHNvbu"
      },
      "execution_count": null,
      "outputs": []
    },
    {
      "cell_type": "code",
      "source": [
        "Web_Crawling()"
      ],
      "metadata": {
        "id": "Zff1uF38N9of"
      },
      "execution_count": null,
      "outputs": []
    }
  ]
}