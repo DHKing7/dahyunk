{
  "nbformat": 4,
  "nbformat_minor": 0,
  "metadata": {
    "colab": {
      "name": "폰켓몬.ipynb",
      "provenance": [],
      "collapsed_sections": [],
      "authorship_tag": "ABX9TyOxz4kgizton/p2LYglPU3s"
    },
    "kernelspec": {
      "name": "python3",
      "display_name": "Python 3"
    },
    "language_info": {
      "name": "python"
    }
  },
  "cells": [
    {
      "cell_type": "code",
      "execution_count": null,
      "metadata": {
        "id": "PxDbFOQ-Jshi"
      },
      "outputs": [],
      "source": [
        "def solution(nums):\n",
        "    stack = []\n",
        "    for i in nums:\n",
        "        if len(stack) == 0:\n",
        "            stack.append(i)\n",
        "        else:\n",
        "            if i not in stack:\n",
        "                stack.append(i)\n",
        "    if len(nums)/2 <= len(stack):\n",
        "        return len(nums)/2\n",
        "    else:\n",
        "        return len(stack)"
      ]
    }
  ]
}