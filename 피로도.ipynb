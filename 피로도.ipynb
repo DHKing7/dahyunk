{
  "nbformat": 4,
  "nbformat_minor": 0,
  "metadata": {
    "colab": {
      "name": "피로도.ipynb",
      "provenance": [],
      "collapsed_sections": [],
      "authorship_tag": "ABX9TyMaF4f4OieWh2DIG6JaoyVi",
      "include_colab_link": true
    },
    "kernelspec": {
      "name": "python3",
      "display_name": "Python 3"
    },
    "language_info": {
      "name": "python"
    }
  },
  "cells": [
    {
      "cell_type": "markdown",
      "metadata": {
        "id": "view-in-github",
        "colab_type": "text"
      },
      "source": [
        "<a href=\"https://colab.research.google.com/github/DHKing7/dahyunk/blob/main/%ED%94%BC%EB%A1%9C%EB%8F%84.ipynb\" target=\"_parent\"><img src=\"https://colab.research.google.com/assets/colab-badge.svg\" alt=\"Open In Colab\"/></a>"
      ]
    },
    {
      "cell_type": "code",
      "execution_count": null,
      "metadata": {
        "id": "Hfc6xxIvmA7F"
      },
      "outputs": [],
      "source": [
        "answer = 0\n",
        "N = 0\n",
        "visited = []\n",
        "def dfs(k, cnt, dungeons):\n",
        "    global answer\n",
        "    if cnt > answer:\n",
        "        answer = cnt\n",
        "    for i in range(N):\n",
        "        if k >= dungeons[i][0] and not visited[i]:\n",
        "            visited[i] = 1\n",
        "            dfs(k-dungeons[i][1], cnt+1, dungeons)\n",
        "            visited[i] = 0\n",
        "def solution(k, dungeons):\n",
        "    global N, visited\n",
        "    N = len(dungeons)\n",
        "    visited = [0] * N\n",
        "    dfs(k,0,dungeons)\n",
        "    return answer"
      ]
    }
  ]
}