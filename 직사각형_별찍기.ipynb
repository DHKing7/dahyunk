{
  "nbformat": 4,
  "nbformat_minor": 0,
  "metadata": {
    "colab": {
      "name": "직사각형_별찍기.ipynb",
      "provenance": [],
      "collapsed_sections": [],
      "authorship_tag": "ABX9TyP0vWe+0+HS2Lb39e+wdXr2"
    },
    "kernelspec": {
      "name": "python3",
      "display_name": "Python 3"
    },
    "language_info": {
      "name": "python"
    }
  },
  "cells": [
    {
      "cell_type": "code",
      "execution_count": null,
      "metadata": {
        "id": "9wQB8xrvZ4JS"
      },
      "outputs": [],
      "source": [
        "a, b = map(int, input().strip().split(' '))\n",
        "star = \"*\"*a\n",
        "for i in range(b):\n",
        "    print(star)"
      ]
    }
  ]
}