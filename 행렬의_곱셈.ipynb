{
  "nbformat": 4,
  "nbformat_minor": 0,
  "metadata": {
    "colab": {
      "name": "행렬의_곱셈.ipynb",
      "provenance": [],
      "collapsed_sections": [],
      "authorship_tag": "ABX9TyN7uhTU1Z6W1W1gfist4f/p",
      "include_colab_link": true
    },
    "kernelspec": {
      "name": "python3",
      "display_name": "Python 3"
    },
    "language_info": {
      "name": "python"
    }
  },
  "cells": [
    {
      "cell_type": "markdown",
      "metadata": {
        "id": "view-in-github",
        "colab_type": "text"
      },
      "source": [
        "<a href=\"https://colab.research.google.com/github/DHKing7/dahyunk/blob/main/%ED%96%89%EB%A0%AC%EC%9D%98_%EA%B3%B1%EC%85%88.ipynb\" target=\"_parent\"><img src=\"https://colab.research.google.com/assets/colab-badge.svg\" alt=\"Open In Colab\"/></a>"
      ]
    },
    {
      "cell_type": "code",
      "execution_count": null,
      "metadata": {
        "id": "i2SHOKeOsI5V"
      },
      "outputs": [],
      "source": [
        "def solution(arr1, arr2):\n",
        "    row_1 = len(arr1)\n",
        "    col_1 = len(arr1[0])\n",
        "    \n",
        "    row_2 = len(arr2)\n",
        "    col_2 = len(arr2[0])\n",
        "    index = 0\n",
        "    stack = []\n",
        "    if col_1 != row_2:\n",
        "        return False\n",
        "    \n",
        "    else:\n",
        "        for i in range(row_1):\n",
        "            answer = []\n",
        "            for k in range(col_2):\n",
        "                num = 0\n",
        "                for j in range(col_1):\n",
        "                    num += (arr1[i][j] * arr2[j][k])\n",
        "                answer += [num]\n",
        "            stack.append(answer)\n",
        "        \n",
        "                \n",
        "        \n",
        "    return stack"
      ]
    }
  ]
}