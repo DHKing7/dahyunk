{
  "nbformat": 4,
  "nbformat_minor": 0,
  "metadata": {
    "colab": {
      "name": "크레인_인형뽑기_게임.ipynb",
      "provenance": [],
      "authorship_tag": "ABX9TyNQm5TpRZJIO0ojQ7jQdqzk",
      "include_colab_link": true
    },
    "kernelspec": {
      "name": "python3",
      "display_name": "Python 3"
    },
    "language_info": {
      "name": "python"
    }
  },
  "cells": [
    {
      "cell_type": "markdown",
      "metadata": {
        "id": "view-in-github",
        "colab_type": "text"
      },
      "source": [
        "<a href=\"https://colab.research.google.com/github/DHKing7/dahyunk/blob/main/%ED%81%AC%EB%A0%88%EC%9D%B8_%EC%9D%B8%ED%98%95%EB%BD%91%EA%B8%B0_%EA%B2%8C%EC%9E%84.ipynb\" target=\"_parent\"><img src=\"https://colab.research.google.com/assets/colab-badge.svg\" alt=\"Open In Colab\"/></a>"
      ]
    },
    {
      "cell_type": "code",
      "execution_count": null,
      "metadata": {
        "id": "vsWq6A1QDAkS"
      },
      "outputs": [],
      "source": [
        "def solution(board, moves):\n",
        "#배열의 크기 판정\n",
        "    if len(moves) < 1 or len(moves) > 1000:\n",
        "        print('moves의 크기는 1 이상 1000 이하입니다. ')\n",
        "    if len(board) < 5 or len(board) > 30:\n",
        "        print('배열의 크기는 5 x 5 이상 30 x 30 이하입니다. ')\n",
        "#게임\n",
        "    else:\n",
        "#         [0] -> [4] moves에 담긴 숫자는 열번호\n",
        "        answer = 0\n",
        "        stack = []\n",
        "        for i in moves:\n",
        "            for k in range(len(board)):\n",
        "                if board[k][i-1] != 0:\n",
        "                    if len(stack) < 1: \n",
        "                        stack.append(board[k][i-1])\n",
        "                        board[k][i-1] = 0\n",
        "                    elif stack[-1] == board[k][i-1]:\n",
        "                        stack.pop()\n",
        "                        answer += 2\n",
        "                        board[k][i-1] = 0 \n",
        "                    else:\n",
        "                        stack.append(board[k][i-1])\n",
        "                        board[k][i-1] = 0 \n",
        "                    break                 \n",
        "        return answer\n",
        "    \n",
        "#     피치 오리 고양이 고양이 오리 토끼 None 피치"
      ]
    }
  ]
}